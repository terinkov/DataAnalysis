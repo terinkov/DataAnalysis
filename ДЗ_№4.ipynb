{
  "cells": [
    {
      "cell_type": "markdown",
      "metadata": {
        "id": "view-in-github",
        "colab_type": "text"
      },
      "source": [
        "<a href=\"https://colab.research.google.com/github/terinkov/DataAnalysis/blob/main/%D0%94%D0%97_%E2%84%964.ipynb\" target=\"_parent\"><img src=\"https://colab.research.google.com/assets/colab-badge.svg\" alt=\"Open In Colab\"/></a>"
      ]
    },
    {
      "cell_type": "markdown",
      "id": "ae540e00",
      "metadata": {
        "id": "ae540e00"
      },
      "source": [
        "# Домашнее задание № 4\n",
        "Состоит из двух частей: Z-тест и t-тест, проверка гипотез о сдвиге и однородности."
      ]
    },
    {
      "cell_type": "code",
      "execution_count": null,
      "id": "9a49e460",
      "metadata": {
        "id": "9a49e460"
      },
      "outputs": [],
      "source": [
        "import numpy as np\n",
        "import scipy.stats as stats\n",
        "import matplotlib.pyplot as plt\n",
        "from statsmodels.stats.power import TTestIndPower\n",
        "from scipy.stats import ttest_ind"
      ]
    },
    {
      "cell_type": "markdown",
      "id": "088c44ac",
      "metadata": {
        "id": "088c44ac"
      },
      "source": [
        "# Часть 1: Проверка гипотез (Z-тест и t-тест)"
      ]
    },
    {
      "cell_type": "markdown",
      "id": "1a12ae43",
      "metadata": {
        "id": "1a12ae43"
      },
      "source": [
        "## Задача 1: Сравнение методов анализа данных\n",
        "\n",
        "### Контекст\n",
        "Компания провела эксперимент по улучшению времени загрузки страницы. Данные собраны для двух групп пользователей: контрольной (старая версия) и тестовой (новая версия). Вам нужно проанализировать данные, используя Z-тест и t-тест, и сравнить результаты.\n",
        "\n",
        "### Данные\n",
        "- **Контрольная группа**: 500 пользователей, среднее время загрузки $\\bar{X}_A = 3.8$ сек, стандартное отклонение $\\sigma_A = 0.9$ сек.\n",
        "- **Тестовая группа**: 520 пользователей, среднее время загрузки $\\bar{X}_B = 3.5$ сек, стандартное отклонение $\\sigma_B = 1.0$ сек.\n",
        "\n",
        "### Задания $(\\Sigma 36 points)$\n",
        "1. $(4 \\times 3 points)$ **Проверьте гипотезу о равенстве средних с использованием Z-теста.** Укажите:\n",
        "   - Формулировку нулевой и альтернативной гипотез.\n",
        "   - Расчёт Z-статистики.\n",
        "   - Критическое значение и p-value.\n",
        "   - Вывод о значимости.\n",
        "\n",
        "2. $(4 \\times 3 points)$ **Проверьте гипотезу о равенстве средних с использованием t-теста Уэлча.** Укажите:\n",
        "   - Формулировку нулевой и альтернативной гипотез.\n",
        "   - Расчёт t-статистики и степеней свободы.\n",
        "   - Критическое значение и p-value.\n",
        "   - Вывод о значимости.\n",
        "\n",
        "3. $(2 \\times 3 points)$ **Сравните результаты Z-теста и t-теста.** Ответьте на вопросы:\n",
        "   - Почему результаты могут отличаться?\n",
        "   - Какой тест лучше подходит для этих данных?\n",
        "\n",
        "4. $(2 \\times 3 points)$ **Сделайте бизнес-рекомендацию на основе анализа.** Укажите:\n",
        "   - Статистическую значимость изменений.\n",
        "   - Практическую значимость (например, в секундах)."
      ]
    },
    {
      "cell_type": "markdown",
      "id": "2465ab9b",
      "metadata": {
        "id": "2465ab9b"
      },
      "source": [
        "# Решение задачи 1: Сравнение методов анализа данных"
      ]
    },
    {
      "cell_type": "markdown",
      "id": "863bc20f",
      "metadata": {
        "id": "863bc20f"
      },
      "source": [
        "### 1.1 Проверьте гипотезу о равенстве средних с использованием Z-теста."
      ]
    },
    {
      "cell_type": "markdown",
      "id": "48fa3999",
      "metadata": {
        "id": "48fa3999"
      },
      "source": [
        "### 1.1.1 Формулировку нулевой и альтернативной гипотез"
      ]
    },
    {
      "cell_type": "markdown",
      "id": "7390be66",
      "metadata": {
        "id": "7390be66"
      },
      "source": [
        "$ H_0 $: Среднее время загрузки страниц в контрольной и тестовой группах одинаково $μ_A = μ_B$\n",
        "\n",
        "$ H_1$:Среднее время загрузки страниц в тестовой и контрольной группах не равно: $:μ_A\\ne μ_B​$"
      ]
    },
    {
      "cell_type": "markdown",
      "id": "98eaef3c",
      "metadata": {
        "id": "98eaef3c"
      },
      "source": [
        "### 1.1.2 Расчёт Z-статистики"
      ]
    },
    {
      "cell_type": "code",
      "execution_count": null,
      "id": "fdf71de2",
      "metadata": {
        "id": "fdf71de2",
        "outputId": "91b5ada8-2180-4845-e1d5-7d036bd33db7",
        "colab": {
          "base_uri": "https://localhost:8080/"
        }
      },
      "outputs": [
        {
          "output_type": "stream",
          "name": "stdout",
          "text": [
            "Z-статистика:  5.0400\n"
          ]
        }
      ],
      "source": [
        "X_A, sigma_A, n_A = 3.8, 0.9, 500\n",
        "X_B, sigma_B, n_B = 3.5, 1.0, 520\n",
        "\n",
        "Z = (X_A - X_B) / np.sqrt((sigma_A ** 2) / n_A + (sigma_B ** 2) / n_B)\n",
        "print(f'Z-статистика: {Z: .4f}')"
      ]
    },
    {
      "cell_type": "markdown",
      "id": "6ece69d4",
      "metadata": {
        "id": "6ece69d4"
      },
      "source": [
        "### 1.1.3 Критическое значение и p-value"
      ]
    },
    {
      "cell_type": "code",
      "execution_count": null,
      "id": "f31ef06d",
      "metadata": {
        "id": "f31ef06d",
        "outputId": "c73aaad4-c65f-4f2c-f410-f777ec8f17a9",
        "colab": {
          "base_uri": "https://localhost:8080/"
        }
      },
      "outputs": [
        {
          "output_type": "stream",
          "name": "stdout",
          "text": [
            "Критическое значение (±):, 1.9600\n",
            "P-value:, 0.0000004655\n"
          ]
        }
      ],
      "source": [
        "alpha = 0.05\n",
        "Z_crit = stats.norm.ppf(1 - alpha / 2)\n",
        "\n",
        "p_value = 2 * (1 - stats.norm.cdf(abs(Z)))\n",
        "\n",
        "print(f'Критическое значение (±):, {Z_crit:.4f}')\n",
        "print(f'P-value:, {p_value:.10f}')"
      ]
    },
    {
      "cell_type": "markdown",
      "id": "2cca204c",
      "metadata": {
        "id": "2cca204c"
      },
      "source": [
        "### 1.1.4 Вывод о значимости"
      ]
    },
    {
      "cell_type": "code",
      "execution_count": null,
      "id": "88e88058",
      "metadata": {
        "id": "88e88058",
        "outputId": "37a6b001-1fa7-4f06-933b-e91faec35456",
        "colab": {
          "base_uri": "https://localhost:8080/"
        }
      },
      "outputs": [
        {
          "output_type": "stream",
          "name": "stdout",
          "text": [
            "Отвергаем H₀: различия статистически значимы\n"
          ]
        }
      ],
      "source": [
        "if (p_value<alpha):\n",
        "  print('Отвергаем H₀: различия статистически значимы')\n",
        "else:\n",
        "  print('Отвергаем H1: различия статистически незначимы')"
      ]
    },
    {
      "cell_type": "markdown",
      "id": "fefe919f",
      "metadata": {
        "id": "fefe919f"
      },
      "source": [
        "### 1.2 Проверьте гипотезу о равенстве средних с использованием t-теста Уэлча"
      ]
    },
    {
      "cell_type": "markdown",
      "id": "94e10463",
      "metadata": {
        "id": "94e10463"
      },
      "source": [
        "### 1.2.1 Формулировку нулевой и альтернативной гипотез"
      ]
    },
    {
      "cell_type": "markdown",
      "id": "e9a42246",
      "metadata": {
        "id": "e9a42246"
      },
      "source": [
        "$ H_0 $: Среднее время загрузки страниц в контрольной и тестовой группах одинаково $μ_A = μ_B$\n",
        "\n",
        "$ H_1$:Среднее время загрузки страниц в тестовой и контрольной группах не равно: $:μ_A\\ne μ_B​$"
      ]
    },
    {
      "cell_type": "markdown",
      "id": "8bdddd01",
      "metadata": {
        "id": "8bdddd01"
      },
      "source": [
        "### 1.2.2 Расчёт t-статистики и степеней свободы"
      ]
    },
    {
      "cell_type": "code",
      "execution_count": null,
      "id": "a5b4a871",
      "metadata": {
        "id": "a5b4a871",
        "outputId": "98350117-cf58-4416-8df5-98bf2adfc4ac",
        "colab": {
          "base_uri": "https://localhost:8080/"
        }
      },
      "outputs": [
        {
          "output_type": "stream",
          "name": "stdout",
          "text": [
            "t-статистика: 4.4467\n",
            "Степени свободы: 1013.6\n"
          ]
        }
      ],
      "source": [
        "np.random.seed(42)\n",
        "group_A = np.random.normal(X_A, sigma_A, n_A)\n",
        "group_B = np.random.normal(X_B, sigma_B, n_B)\n",
        "\n",
        "# Выполняем t-тест Уэлча\n",
        "t_stat, p_val_t = stats.ttest_ind(group_A, group_B, equal_var=False)\n",
        "\n",
        "# Степени свободы (вычисляются внутри ttest_ind, но можно посчитать вручную)\n",
        "df = ((sigma_A**2 / n_A + sigma_B**2 / n_B)**2) / (\n",
        "    ((sigma_A**2 / n_A)**2 / (n_A - 1)) + ((sigma_B**2 / n_B)**2 / (n_B - 1))\n",
        ")\n",
        "\n",
        "print(f\"t-статистика: {t_stat:.4f}\")\n",
        "print(f\"Степени свободы: {df:.1f}\")"
      ]
    },
    {
      "cell_type": "markdown",
      "id": "89e6cdf8",
      "metadata": {
        "id": "89e6cdf8"
      },
      "source": [
        "### 1.2.3 Критическое значение и p-value"
      ]
    },
    {
      "cell_type": "code",
      "execution_count": null,
      "id": "dff51ab2",
      "metadata": {
        "id": "dff51ab2",
        "outputId": "0c17555a-382f-4315-b31c-4201ad0d2d10",
        "colab": {
          "base_uri": "https://localhost:8080/"
        }
      },
      "outputs": [
        {
          "output_type": "stream",
          "name": "stdout",
          "text": [
            "Критическое значение (±): 1.9623\n",
            "P-value: 0.0000096794\n"
          ]
        }
      ],
      "source": [
        "alpha = 0.05\n",
        "t_crit = stats.t.ppf(1 - alpha / 2, df)\n",
        "print(f\"Критическое значение (±): {t_crit:.4f}\")\n",
        "print(f\"P-value: {p_val_t:.10f}\")"
      ]
    },
    {
      "cell_type": "markdown",
      "id": "2c6b5b8a",
      "metadata": {
        "id": "2c6b5b8a"
      },
      "source": [
        "### 1.2.4 Вывод о значимости."
      ]
    },
    {
      "cell_type": "code",
      "execution_count": null,
      "id": "c7dd16bb",
      "metadata": {
        "id": "c7dd16bb",
        "outputId": "17735720-df87-44de-daf3-785c601dbc64",
        "colab": {
          "base_uri": "https://localhost:8080/"
        }
      },
      "outputs": [
        {
          "output_type": "stream",
          "name": "stdout",
          "text": [
            "Отвергаем H₀: различия статистически значимы\n"
          ]
        }
      ],
      "source": [
        "if (p_value<alpha):\n",
        "  print('Отвергаем H₀: различия статистически значимы')\n",
        "else:\n",
        "  print('Отвергаем H1: различия статистически незначимы')"
      ]
    },
    {
      "cell_type": "markdown",
      "id": "c67dbd04",
      "metadata": {
        "id": "c67dbd04"
      },
      "source": [
        "### 1.3 Сравните результаты Z-теста и t-теста"
      ]
    },
    {
      "cell_type": "markdown",
      "id": "8f5ac6e7",
      "metadata": {
        "id": "8f5ac6e7"
      },
      "source": [
        "### 1.3.1 Почему результаты могут отличаться?\n",
        "### 1.3.2 Какой тест лучше для этих данных?"
      ]
    },
    {
      "cell_type": "markdown",
      "source": [
        "**Почему результаты Z-теста и t-теста могут отличаться?**\n",
        "\n",
        "Допущения о стандартном отклонении (σ)\n",
        "\n",
        "* В Z-тесте стандартные отклонения считаются известными (даже если они разные для двух групп).\n",
        "\n",
        "* В t-тесте стандартные отклонения оцениваются по выборке, что делает тест более гибким при работе с реальными данными.\n",
        "\n",
        "Коррекция степеней свободы\n",
        "\n",
        "* Z-тест использует нормальное распределение без корректировки степеней свободы.\n",
        "\n",
        "* t-тест Уэлча учитывает различие в дисперсиях и корректирует степень свободы, что делает его более точным, если размеры выборок или дисперсии разные.\n",
        "\n",
        "Размер выборки\n",
        "\n",
        "* Z-тест работает лучше при очень больших выборках (когда выборочное стандартное отклонение ≈ истинному).\n",
        "\n",
        "* t-тест Уэлча подходит даже для умеренных выборок, особенно если дисперсии разные."
      ],
      "metadata": {
        "id": "ZdnUoqz_VHY_"
      },
      "id": "ZdnUoqz_VHY_"
    },
    {
      "cell_type": "markdown",
      "source": [
        "Для этих данных лучше подходит z тест, так как выборки достаточно большие (n>30), они не сильно отличаются и стандартные отклонения известны"
      ],
      "metadata": {
        "id": "OD2aH1pUYsTX"
      },
      "id": "OD2aH1pUYsTX"
    },
    {
      "cell_type": "markdown",
      "id": "8af26fa5",
      "metadata": {
        "id": "8af26fa5"
      },
      "source": [
        "### 1.4 Сделайте бизнес-рекомендацию на основе анализа"
      ]
    },
    {
      "cell_type": "markdown",
      "source": [
        "p-value очень малое (<0.00001), что подтверждает статистическую значимость.\n",
        "\n",
        "Оба теста отвергают $H_0$, значит, новая версия достоверно снижает время загрузки.\n",
        "\n",
        "Рекомендуется внедрить новую версию страницы, так как улучшение статистически значимо и может положительно повлиять на бизнес."
      ],
      "metadata": {
        "id": "wpJ4_LBkZviO"
      },
      "id": "wpJ4_LBkZviO"
    },
    {
      "cell_type": "markdown",
      "id": "5972ffce",
      "metadata": {
        "id": "5972ffce"
      },
      "source": [
        "### 1.4.1 Статистическую значимость изменений\n",
        "### 1.4.2 Практическая значимость (например, в секундах)"
      ]
    },
    {
      "cell_type": "markdown",
      "source": [
        "Среднее время загрузки снизилось с 3.8 сек до 3.5 сек.\n",
        "\n",
        "Разница составляет 0.3 секунды.\n",
        "\n",
        "Даже небольшое улучшение скорости может привести к:\n",
        "* Повышению пользовательского опыта (меньше ожидания).\n",
        "* Уменьшению показателя отказов (меньше пользователей уходят из-за медленной загрузки).\n",
        "* Потенциальному увеличению конверсии и дохода."
      ],
      "metadata": {
        "id": "BG7ijdaBaO3n"
      },
      "id": "BG7ijdaBaO3n"
    },
    {
      "cell_type": "markdown",
      "id": "a195da16",
      "metadata": {
        "id": "a195da16"
      },
      "source": [
        "# Часть 2: Проверка гипотез о сдвиге и однородности"
      ]
    },
    {
      "cell_type": "markdown",
      "id": "34c206bc",
      "metadata": {
        "id": "34c206bc"
      },
      "source": [
        "## Задача 1: Сравнение методов анализа сдвига\n",
        "\n",
        "### Контекст\n",
        "Компания провела A/B-тест двух версий лендинга. Вам предоставлены данные о времени (в секундах), проведенном на странице:\n",
        "- Группа A (старая версия): 150 пользователей  \n",
        "- Группа B (новая версия): 160 пользователей  \n",
        "\n",
        "**Цель**: Определить, увеличилось ли среднее время на странице в группе B."
      ]
    },
    {
      "cell_type": "code",
      "execution_count": null,
      "id": "18086b9d",
      "metadata": {
        "id": "18086b9d"
      },
      "outputs": [],
      "source": [
        "import numpy as np\n",
        "np.random.seed(42)\n",
        "\n",
        "# Генерация данных с асимметрией и выбросами\n",
        "def generate_skewed(loc, scale, skew, size):\n",
        "    data = np.random.weibull(skew, size) * scale + loc\n",
        "    return np.clip(data, 0, None)\n",
        "\n",
        "group_a = generate_skewed(120, 40, 1.5, 150)\n",
        "group_b = generate_skewed(135, 50, 0.8, 160)"
      ]
    },
    {
      "cell_type": "markdown",
      "id": "5b705347",
      "metadata": {
        "id": "5b705347"
      },
      "source": [
        "### Задания  $(\\Sigma 35 points)$\n",
        "1. $(3 \\times 3 points)$ **Разведочный анализ:**\n",
        "   - Постройте гистограммы и boxplot для обеих групп\n",
        "   - Рассчитайте медиану, среднее, стандартное отклонение\n",
        "   - Проверьте наличие выбросов (правило 3σ или IQR \\[межквартильный размах = разница между 75-процентилем и 25-процентилем\\])\n",
        "\n",
        "2. $(3 \\times 3 points)$ **Проверка условий:**\n",
        "   - Тест Шапиро-Уилка на нормальность\n",
        "   - Тест Левена на равенство дисперсий\n",
        "   - Обоснуйте выбор параметрических/непараметрических методов\n",
        "\n",
        "3. $(3 \\times 3 points)$ **Применение критериев:**\n",
        "   - Проведите:\n",
        "       - (а) Парный t-тест (если данные нормальны)\n",
        "       - (б) Тест Уэлча (Welch's t-test) (при неравных дисперсиях)\n",
        "       - (в) U-тест Манна-Уитни\n",
        "   \n",
        "4. $(2 \\times 4 points)$ **Сравнение результатов:**\n",
        "   - Объясните расхождения между параметрическими и непараметрическими методами\n",
        "   - Сформулируйте итоговый вывод для product-менеджера"
      ]
    },
    {
      "cell_type": "markdown",
      "id": "9c1da864",
      "metadata": {
        "id": "9c1da864"
      },
      "source": [
        "## Задача 1: Сравнение методов анализа сдвига"
      ]
    },
    {
      "cell_type": "markdown",
      "id": "1450b8b2",
      "metadata": {
        "id": "1450b8b2"
      },
      "source": [
        "### 1.1 Разведочный анализ"
      ]
    },
    {
      "cell_type": "markdown",
      "id": "176c79ad",
      "metadata": {
        "id": "176c79ad"
      },
      "source": [
        "### 1.1.1 Постройте гистограммы и boxplot для обеих групп"
      ]
    },
    {
      "cell_type": "code",
      "execution_count": null,
      "id": "c445944b",
      "metadata": {
        "id": "c445944b",
        "outputId": "035e8e5f-9906-4d9a-fd83-d01a1e8759d3",
        "colab": {
          "base_uri": "https://localhost:8080/",
          "height": 487
        }
      },
      "outputs": [
        {
          "output_type": "display_data",
          "data": {
            "text/plain": [
              "<Figure size 640x480 with 2 Axes>"
            ],
            "image/png": "[encoded data removed]"
          },
          "metadata": {}
        }
      ],
      "source": [
        "import seaborn as sns\n",
        "\n",
        "plt.subplot(1, 2, 1)\n",
        "sns.histplot(group_a, kde=True, color='blue', label='Группа A')\n",
        "sns.histplot(group_b, kde=True, color='green', label='Группа B')\n",
        "plt.title('Гистограмма для обеих групп')\n",
        "plt.legend()\n",
        "\n",
        "# Boxplot\n",
        "plt.subplot(1, 2, 2)\n",
        "sns.boxplot(data=[group_a, group_b], palette=['blue', 'green'])\n",
        "plt.title('Boxplot для обеих групп')\n",
        "\n",
        "plt.tight_layout()\n",
        "plt.show()"
      ]
    },
    {
      "cell_type": "markdown",
      "id": "56e7a175",
      "metadata": {
        "id": "56e7a175"
      },
      "source": [
        "### 1.1.2 Рассчитайте медиану, среднее, стандартное отклонение"
      ]
    },
    {
      "cell_type": "code",
      "execution_count": null,
      "id": "332d5a71",
      "metadata": {
        "id": "332d5a71",
        "colab": {
          "base_uri": "https://localhost:8080/"
        },
        "outputId": "9ccee00c-865b-4d98-9234-71a60c1371bd"
      },
      "outputs": [
        {
          "output_type": "execute_result",
          "data": {
            "text/plain": [
              "({'Медиана': np.float64(148.2795424770707),\n",
              "  'Среднее': np.float64(154.03178668610897),\n",
              "  'Стандартное отклонение': np.float64(23.69336784797491)},\n",
              " {'Медиана': np.float64(173.00253095786366),\n",
              "  'Среднее': np.float64(192.5515123966033),\n",
              "  'Стандартное отклонение': np.float64(63.10858549727403)})"
            ]
          },
          "metadata": {},
          "execution_count": 10
        }
      ],
      "source": [
        "stats_a = {\n",
        "    \"Медиана\": np.median(group_a),\n",
        "    \"Среднее\": np.mean(group_a),\n",
        "    \"Стандартное отклонение\": np.std(group_a),\n",
        "}\n",
        "\n",
        "stats_b = {\n",
        "    \"Медиана\": np.median(group_b),\n",
        "    \"Среднее\": np.mean(group_b),\n",
        "    \"Стандартное отклонение\": np.std(group_b),\n",
        "}\n",
        "\n",
        "stats_a, stats_b"
      ]
    },
    {
      "cell_type": "markdown",
      "id": "b5129b14",
      "metadata": {
        "id": "b5129b14"
      },
      "source": [
        "### 1.1.3 Проверьте наличие выбросов (правило 3σ или IQR \\[межквартильный размах = разница между 75-процентилем и 25-процентилем\\])"
      ]
    },
    {
      "cell_type": "code",
      "execution_count": null,
      "id": "d8adfc3e",
      "metadata": {
        "id": "d8adfc3e",
        "colab": {
          "base_uri": "https://localhost:8080/"
        },
        "outputId": "8308ec6c-9b2b-4cef-be3b-98ebdecbd26e"
      },
      "outputs": [
        {
          "output_type": "stream",
          "name": "stdout",
          "text": [
            "[np.float64(226.33160564473275)]\n",
            "[np.float64(439.57479036033266), np.float64(384.00105192693513), np.float64(472.80280365454684), np.float64(393.62321939098194)]\n"
          ]
        }
      ],
      "source": [
        "def detect_outliers(data):\n",
        "    mean = np.mean(data)\n",
        "    std_dev = np.std(data)\n",
        "    outliers = [x for x in data if x < (mean - 3 * std_dev) or x > (mean + 3 * std_dev)]\n",
        "    return outliers\n",
        "\n",
        "outliers_a = detect_outliers(group_a)\n",
        "outliers_b = detect_outliers(group_b)\n",
        "\n",
        "print(outliers_a)\n",
        "print(outliers_b)"
      ]
    },
    {
      "cell_type": "markdown",
      "id": "888f0cf4",
      "metadata": {
        "id": "888f0cf4"
      },
      "source": [
        "### 1.2 Проверка условий"
      ]
    },
    {
      "cell_type": "markdown",
      "id": "b7916ec3",
      "metadata": {
        "id": "b7916ec3"
      },
      "source": [
        "### 1.2.1 Тест Шапиро-Уилка на нормальность"
      ]
    },
    {
      "cell_type": "code",
      "execution_count": null,
      "id": "e34d3f20",
      "metadata": {
        "id": "e34d3f20",
        "outputId": "2d9f801c-6547-4a7d-8d1c-44c32e378885",
        "colab": {
          "base_uri": "https://localhost:8080/"
        }
      },
      "outputs": [
        {
          "output_type": "stream",
          "name": "stdout",
          "text": [
            "Group A: p-value = 0.00000065, отклонение от нормальности\n",
            "Group B: p-value = 0.00000000000020280916, отклонение от нормальности\n"
          ]
        }
      ],
      "source": [
        "shapiro_a = stats.shapiro(group_a)\n",
        "shapiro_b = stats.shapiro(group_b)\n",
        "print(f'Group A: p-value = {shapiro_a.pvalue:.8f}, отклонение от нормальности')\n",
        "print(f'Group B: p-value = {shapiro_b.pvalue:.20f}, отклонение от нормальности')"
      ]
    },
    {
      "cell_type": "markdown",
      "id": "b0256308",
      "metadata": {
        "id": "b0256308"
      },
      "source": [
        "### 1.2.2 Тест Левена на равенство дисперсий"
      ]
    },
    {
      "cell_type": "code",
      "execution_count": null,
      "id": "39c014f2",
      "metadata": {
        "id": "39c014f2",
        "outputId": "29b2a77d-f1de-446d-e763-0dd665349926",
        "colab": {
          "base_uri": "https://localhost:8080/"
        }
      },
      "outputs": [
        {
          "output_type": "stream",
          "name": "stdout",
          "text": [
            "Тест Левена: p-value = 0.0000000205, разные дисперсии\n"
          ]
        }
      ],
      "source": [
        "levene_test = stats.levene(group_a, group_b)\n",
        "print(f'Тест Левена: p-value = {levene_test.pvalue:.10f}, разные дисперсии')"
      ]
    },
    {
      "cell_type": "markdown",
      "id": "acf7a4e5",
      "metadata": {
        "id": "acf7a4e5"
      },
      "source": [
        "### 1.2.3 Обоснуйте выбор параметрических/непараметрических методов"
      ]
    },
    {
      "cell_type": "markdown",
      "id": "0d8fb062",
      "metadata": {
        "id": "0d8fb062"
      },
      "source": [
        "Нормальность данных: Мы сначала проверяем с помощью теста Шапиро-Уилка, являются ли данные нормально распределенными. Если данные нормально распределены, можно применять параметрические методы, такие как t-тест.\n",
        "\n",
        "Равенство дисперсий: Тест Левена используется для проверки гипотезы о равенстве дисперсий. Если дисперсии в обеих группах равны, применяем стандартный t-тест. В случае, если дисперсии не равны, для корректности используется тест Уэлча.\n",
        "\n",
        "Ненормальное распределение: Если данные не следуют нормальному распределению, необходимо использовать непараметрические методы, такие как U-тест Манна-Уитни, который не требует предположений о распределении данных."
      ]
    },
    {
      "cell_type": "markdown",
      "id": "9f3e8904",
      "metadata": {
        "id": "9f3e8904"
      },
      "source": [
        "### 1.3 Применение критериев"
      ]
    },
    {
      "cell_type": "markdown",
      "id": "2e675d92",
      "metadata": {
        "id": "2e675d92"
      },
      "source": [
        "### 1.3.1 Парный t-тест (если данные нормальны)"
      ]
    },
    {
      "cell_type": "code",
      "execution_count": null,
      "id": "5c9a1a66",
      "metadata": {
        "id": "5c9a1a66",
        "outputId": "ea0f2e07-0705-409b-81ab-02c0e25716be",
        "colab": {
          "base_uri": "https://localhost:8080/"
        }
      },
      "outputs": [
        {
          "output_type": "stream",
          "name": "stdout",
          "text": [
            "Student's t-test: t=-7.00, p=0.00000000001578\n"
          ]
        }
      ],
      "source": [
        "t_stat, p_value_t = stats.ttest_ind(group_a, group_b, equal_var=True)\n",
        "print(f\"Student's t-test: t={t_stat:.2f}, p={p_value_t:.14f}\")"
      ]
    },
    {
      "cell_type": "markdown",
      "id": "f24e5af8",
      "metadata": {
        "id": "f24e5af8"
      },
      "source": [
        "### 1.3.2 Welch's t-test (при неравных дисперсиях)"
      ]
    },
    {
      "cell_type": "code",
      "execution_count": null,
      "id": "1fb60c6a",
      "metadata": {
        "id": "1fb60c6a",
        "outputId": "cb419da0-9b16-4c81-e7d8-8c4438b103c8",
        "colab": {
          "base_uri": "https://localhost:8080/"
        }
      },
      "outputs": [
        {
          "output_type": "stream",
          "name": "stdout",
          "text": [
            "Welch's t-test: t=-7.18, p=0.00000000001284\n"
          ]
        }
      ],
      "source": [
        "t_stat_welch, p_value_welch = stats.ttest_ind(group_a, group_b, equal_var=False)\n",
        "print(f\"Welch's t-test: t={t_stat_welch:.2f}, p={p_value_welch:.14f}\")"
      ]
    },
    {
      "cell_type": "markdown",
      "id": "e2b9005d",
      "metadata": {
        "id": "e2b9005d"
      },
      "source": [
        "### 1.3.3 U-тест Манна-Уитни"
      ]
    },
    {
      "cell_type": "code",
      "execution_count": null,
      "id": "40ef8684",
      "metadata": {
        "id": "40ef8684",
        "outputId": "1f2f3495-435a-4197-f60d-e729cf7d5232",
        "colab": {
          "base_uri": "https://localhost:8080/"
        }
      },
      "outputs": [
        {
          "output_type": "stream",
          "name": "stdout",
          "text": [
            "Mann-Whitney U-test: U=6842.00, p=0.00000000006173\n"
          ]
        }
      ],
      "source": [
        "u_stat, p_value_u = stats.mannwhitneyu(group_a, group_b, alternative='two-sided')\n",
        "print(f\"Mann-Whitney U-test: U={u_stat:.2f}, p={p_value_u:.14f}\")"
      ]
    },
    {
      "cell_type": "markdown",
      "id": "9563a39d",
      "metadata": {
        "id": "9563a39d"
      },
      "source": [
        "### 1.4 Сравнение результатов"
      ]
    },
    {
      "cell_type": "markdown",
      "id": "9fb6ef90",
      "metadata": {
        "id": "9fb6ef90"
      },
      "source": [
        "### 1.4.1 Объясните расхождения между параметрическими и непараметрическими методами"
      ]
    },
    {
      "cell_type": "markdown",
      "id": "0242e377",
      "metadata": {
        "id": "0242e377"
      },
      "source": [
        "t-тест Стьюдента (Student’s t-test, t = -7.00, p ≈ 0.0000)\n",
        "\n",
        "Использует средние значения и предполагает, что обе выборки имеют нормальное распределение и равные дисперсии.\n",
        "\n",
        "Если дисперсии различаются, это может привести к смещенным результатам.\n",
        "\n",
        "t-тест Уэлча (Welch’s t-test, t = -7.18, p ≈ 0.0000)\n",
        "\n",
        "Учитывает возможное неравенство дисперсий и лучше работает, если группы имеют разные вариации значений.\n",
        "\n",
        "Разница между Student’s t-test и Welch’s t-test небольшая, но t-статистика в тесте Уэлча чуть больше по модулю, что связано с корректировкой степеней свободы.\n",
        "\n",
        "U-тест Манна-Уитни (Mann-Whitney U-test, U = 6842.00, p ≈ 0.0000)\n",
        "\n",
        "Непараметрический тест, который сравнивает распределения двух групп, а не их средние значения.\n",
        "\n",
        "Работает лучше при наличии выбросов и асимметричных распределений.\n",
        "\n",
        "Подходит для случаев, когда данные не соответствуют нормальному распределению (что у нас вероятно, так как данные были сгенерированы с асимметрией).\n",
        "\n"
      ]
    },
    {
      "cell_type": "markdown",
      "id": "ce0bb07b",
      "metadata": {
        "id": "ce0bb07b"
      },
      "source": [
        "### 1.4.2 Сформулируйте итоговый вывод для product-менеджера"
      ]
    },
    {
      "cell_type": "markdown",
      "source": [
        "На основе проведенного A/B-теста можно сделать следующий вывод:\n",
        "\n",
        "Статистическая значимость изменений: Все тесты (t-тест, тест Уэлча и U-тест Манна-Уитни) подтверждают, что разница между старой и новой версиями лендинга статистически значима. То есть, новая версия лендинга действительно увеличивает среднее время, проведенное на странице.\n",
        "\n",
        "Рекомендуется внедрить новую версию лендинга, так как она продемонстрировала значительное улучшение показателей."
      ],
      "metadata": {
        "id": "1Abfs822i26S"
      },
      "id": "1Abfs822i26S"
    },
    {
      "cell_type": "markdown",
      "id": "671811d5",
      "metadata": {
        "id": "671811d5"
      },
      "source": [
        "## Задача 2: Анализ вариативности в маркетинговых данных\n",
        "### Контекст\n",
        "Анализируется стабильность CTR двух рекламных кампаний:\n",
        "- Кампания X: 200 дней наблюдений  \n",
        "- Кампания Y: 200 дней наблюдений\n",
        "\n",
        "**Цель**: Проверить гипотезу, что кампания Y имеет меньшую вариативность CTR."
      ]
    },
    {
      "cell_type": "code",
      "execution_count": null,
      "id": "fc3253ed",
      "metadata": {
        "id": "fc3253ed"
      },
      "outputs": [],
      "source": [
        "import numpy as np\n",
        "import pandas as pd\n",
        "import matplotlib.pyplot as plt\n",
        "import seaborn as sns\n",
        "from scipy import stats\n",
        "from sklearn.cluster import DBSCAN\n",
        "\n",
        "np.random.seed(42)\n",
        "campaign_x = np.concatenate([\n",
        "    np.random.normal(0.05, 0.01, 150),\n",
        "    np.random.normal(0.08, 0.02, 50)\n",
        "])\n",
        "campaign_y = np.random.beta(a=2, b=40, size=200) * 0.1"
      ]
    },
    {
      "cell_type": "markdown",
      "id": "25eb3208",
      "metadata": {
        "id": "25eb3208"
      },
      "source": [
        "### Задания $(\\Sigma 29 points)$\n",
        "1. $(3 \\times 3 points)$ **Первичный анализ:**\n",
        "   - Рассчитайте [коэффициент вариации](https://ru.wikipedia.org/wiki/Коэффициент_вариации) для обеих кампаний\n",
        "   - Постройте Q-Q plot относительно бета-распределения и выполните тест [Шапиро-Уилка](https://docs.scipy.org/doc/scipy/reference/generated/scipy.stats.shapiro.html) (проверка нормальности)\n",
        "   - Выявите кластеры в данных (например, [методом](https://scikit-learn.org/stable/modules/generated/sklearn.cluster.DBSCAN.html) [DBSCAN](https://ru.wikipedia.org/wiki/DBSCAN))\n",
        "\n",
        "2. $(11 points)$ **Проверка гипотез:**\n",
        "   -  $(4 points)$ F-тест для нормализованных данных\n",
        "   -  $(4 points)$ Тест Левена с медианной центровкой\n",
        "   -  $(3 points)$ Bootstrap-оценка 95% ДИ для отношения дисперсий\n",
        "   \n",
        "4. $(3 \\times 3 points)$ **Интерпретация:**\n",
        "   - Свяжите статистические выводы с бизнес-метриками:\n",
        "       - (а) Сделайте статистические выводы (статистическая значимость вариативности, ДИ, кол-во кластеров)  \n",
        "       - (б) Риск бюджетных потерь при нестабильности CTR\n",
        "       - (в) Оптимальный размер выборки для будущих тестов"
      ]
    },
    {
      "cell_type": "markdown",
      "id": "bdb713ff",
      "metadata": {
        "id": "bdb713ff"
      },
      "source": [
        "## Задача 2: Анализ стабильности CTR"
      ]
    },
    {
      "cell_type": "markdown",
      "id": "2c0648c5",
      "metadata": {
        "id": "2c0648c5"
      },
      "source": [
        "### Генерация данных"
      ]
    },
    {
      "cell_type": "code",
      "execution_count": null,
      "id": "4bee971f",
      "metadata": {
        "id": "4bee971f"
      },
      "outputs": [],
      "source": [
        "# Создаем DataFrame\n",
        "ctr_df = pd.DataFrame({\n",
        "    'CTR': np.concatenate([campaign_x, campaign_y]),\n",
        "    'Campaign': ['X']*200 + ['Y']*200\n",
        "})"
      ]
    },
    {
      "cell_type": "markdown",
      "id": "c156f328",
      "metadata": {
        "id": "c156f328"
      },
      "source": [
        "### 2.1 Первичный анализ"
      ]
    },
    {
      "cell_type": "code",
      "execution_count": null,
      "id": "31cd8dba",
      "metadata": {
        "scrolled": true,
        "id": "31cd8dba",
        "outputId": "d6f52184-773a-4b2a-ab54-6ddb317236a6",
        "colab": {
          "base_uri": "https://localhost:8080/",
          "height": 607
        }
      },
      "outputs": [
        {
          "output_type": "display_data",
          "data": {
            "text/plain": [
              "<Figure size 1200x600 with 2 Axes>"
            ],
            "image/png": "[encoded data removed]"
          },
          "metadata": {}
        }
      ],
      "source": [
        "plt.figure(figsize=(12, 6))\n",
        "\n",
        "# Гистограммы с ядерной оценкой плотности\n",
        "plt.subplot(121)\n",
        "sns.histplot(data=ctr_df, x='CTR', hue='Campaign',\n",
        "             element='step', stat='density', common_norm=False)\n",
        "plt.title('Распределения CTR по кампаниям')\n",
        "\n",
        "# Боксплоты\n",
        "plt.subplot(122)\n",
        "sns.boxplot(data=ctr_df, x='Campaign', y='CTR')\n",
        "plt.title('Сравнение вариативности CTR')\n",
        "plt.tight_layout()\n",
        "plt.show()"
      ]
    },
    {
      "cell_type": "markdown",
      "id": "73f2f59c",
      "metadata": {
        "id": "73f2f59c"
      },
      "source": [
        "### 2.1.1 Рассчитайте [коэффициент вариации](https://ru.wikipedia.org/wiki/Коэффициент_вариации) для обеих кампаний"
      ]
    },
    {
      "cell_type": "code",
      "execution_count": null,
      "id": "f358f60a",
      "metadata": {
        "id": "f358f60a",
        "outputId": "25171795-bbbd-4bb5-8e0e-30ff7b983925",
        "colab": {
          "base_uri": "https://localhost:8080/"
        }
      },
      "outputs": [
        {
          "output_type": "stream",
          "name": "stdout",
          "text": [
            "Campaign X: CV = 0.3230\n",
            "Campaign Y: CV = 0.6670\n"
          ]
        }
      ],
      "source": [
        "cv_x = np.std(campaign_x) / np.mean(campaign_x)\n",
        "cv_y = np.std(campaign_y) / np.mean(campaign_y)\n",
        "\n",
        "print(f\"Campaign X: CV = {cv_x:.4f}\")\n",
        "print(f\"Campaign Y: CV = {cv_y:.4f}\")"
      ]
    },
    {
      "cell_type": "markdown",
      "id": "3a3e6aba",
      "metadata": {
        "id": "3a3e6aba"
      },
      "source": [
        "### 2.1.2 Постройте Q-Q plot относительно бета-распределения и выполните [Шапиро-Уилка](https://docs.scipy.org/doc/scipy/reference/generated/scipy.stats.shapiro.html) (проверка нормальности)"
      ]
    },
    {
      "cell_type": "code",
      "execution_count": null,
      "id": "71156b7c",
      "metadata": {
        "id": "71156b7c",
        "outputId": "6a70af1e-1de8-4940-f833-e00eb8fbc3bb",
        "colab": {
          "base_uri": "https://localhost:8080/",
          "height": 659
        }
      },
      "outputs": [
        {
          "output_type": "display_data",
          "data": {
            "text/plain": [
              "<Figure size 1200x600 with 2 Axes>"
            ],
            "image/png": "[encoded data removed]"
          },
          "metadata": {}
        },
        {
          "output_type": "stream",
          "name": "stdout",
          "text": [
            "Результаты тестов нормальности:\n",
            "Campaign X: Shapiro p-value = 0.00000000036262\n",
            "Campaign Y: Shapiro p-value = 0.00000000042644\n"
          ]
        }
      ],
      "source": [
        "plt.figure(figsize=(12, 6))\n",
        "\n",
        "# Q-Q plot для кампании X\n",
        "plt.subplot(121)\n",
        "stats.probplot(campaign_x, dist=\"norm\", plot=plt)\n",
        "plt.title('Q-Q Plot для кампании X')\n",
        "\n",
        "# Q-Q plot для кампании Y\n",
        "plt.subplot(122)\n",
        "stats.probplot(campaign_y, dist=\"norm\", plot=plt)\n",
        "plt.title('Q-Q Plot для кампании Y')\n",
        "\n",
        "plt.tight_layout()\n",
        "plt.show()\n",
        "\n",
        "# Тест Шапиро-Уилка для обеих кампаний\n",
        "stat_x, p_value_x = stats.shapiro(campaign_x)\n",
        "stat_y, p_value_y = stats.shapiro(campaign_y)\n",
        "print('Результаты тестов нормальности:')\n",
        "print(f\"Campaign X: Shapiro p-value = {p_value_x:.14f}\")\n",
        "print(f\"Campaign Y: Shapiro p-value = {p_value_y:.14f}\")"
      ]
    },
    {
      "cell_type": "markdown",
      "id": "8b413134",
      "metadata": {
        "id": "8b413134"
      },
      "source": [
        "### 2.1.3 Выявите кластеры в данных [методом](https://scikit-learn.org/stable/modules/generated/sklearn.cluster.DBSCAN.html) [DBSCAN](https://ru.wikipedia.org/wiki/DBSCAN)"
      ]
    },
    {
      "cell_type": "code",
      "execution_count": null,
      "id": "502ca6c1",
      "metadata": {
        "id": "502ca6c1",
        "outputId": "db77c417-dd04-4c5b-b5dc-49a5fdce4c6d",
        "colab": {
          "base_uri": "https://localhost:8080/",
          "height": 707
        }
      },
      "outputs": [
        {
          "output_type": "display_data",
          "data": {
            "text/plain": [
              "<Figure size 1400x700 with 2 Axes>"
            ],
            "image/png": "[encoded data removed]"
          },
          "metadata": {}
        }
      ],
      "source": [
        "from sklearn.preprocessing import StandardScaler\n",
        "scaler = StandardScaler()\n",
        "campaign_x_data = ctr_df[ctr_df['Campaign'] == 'X']['CTR'].values.reshape(-1, 1)\n",
        "campaign_y_data = ctr_df[ctr_df['Campaign'] == 'Y']['CTR'].values.reshape(-1, 1)\n",
        "campaign_x_scaled = scaler.fit_transform(campaign_x_data)\n",
        "campaign_y_scaled = scaler.transform(campaign_y_data)\n",
        "\n",
        "# Применение DBSCAN для кампании X\n",
        "dbscan_x = DBSCAN(eps=0.5, min_samples=5)\n",
        "clusters_x = dbscan_x.fit_predict(campaign_x_scaled)\n",
        "\n",
        "# Применение DBSCAN для кампании Y\n",
        "dbscan_y = DBSCAN(eps=0.5, min_samples=5)\n",
        "clusters_y = dbscan_y.fit_predict(campaign_y_scaled)\n",
        "\n",
        "# Визуализация результатов для обеих кампаний\n",
        "plt.figure(figsize=(14, 7))\n",
        "\n",
        "# Кампания X\n",
        "plt.subplot(1, 2, 1)\n",
        "plt.scatter(campaign_x_data, np.zeros_like(campaign_x_data), c=clusters_x, cmap='viridis', marker='o')\n",
        "plt.title('Кластеры в Кампании X')\n",
        "plt.xlabel('CTR (Кампания X)')\n",
        "plt.ylabel('Множество кластеров')\n",
        "\n",
        "# Кампания Y\n",
        "plt.subplot(1, 2, 2)\n",
        "plt.scatter(campaign_y_data, np.zeros_like(campaign_y_data), c=clusters_y, cmap='viridis', marker='o')\n",
        "plt.title('Кластеры в Кампании Y')\n",
        "plt.xlabel('CTR (Кампания Y)')\n",
        "plt.ylabel('Множество кластеров')\n",
        "\n",
        "plt.tight_layout()\n",
        "plt.show()\n"
      ]
    },
    {
      "cell_type": "code",
      "source": [
        "num_clusters_x = len(set(clusters_x))-1\n",
        "num_clusters_y = len(set(clusters_y))-1\n",
        "print('Обнаружено кластеров в Campaign X:',num_clusters_x)\n",
        "print('Обнаружено кластеров в Campaign Y:',num_clusters_y)"
      ],
      "metadata": {
        "colab": {
          "base_uri": "https://localhost:8080/"
        },
        "id": "u9kKZ-FQqgqQ",
        "outputId": "918d0f5b-ea0d-44f2-b899-f54713f30ead"
      },
      "id": "u9kKZ-FQqgqQ",
      "execution_count": null,
      "outputs": [
        {
          "output_type": "stream",
          "name": "stdout",
          "text": [
            "Обнаружено кластеров в Campaign X: 1\n",
            "Обнаружено кластеров в Campaign Y: 0\n"
          ]
        }
      ]
    },
    {
      "cell_type": "markdown",
      "id": "7428e576",
      "metadata": {
        "id": "7428e576"
      },
      "source": [
        "### 2.2 Статистический анализ вариативности"
      ]
    },
    {
      "cell_type": "markdown",
      "id": "a4cf62ad",
      "metadata": {
        "id": "a4cf62ad"
      },
      "source": [
        "### 2.2.1 F-тест для нормализованных данных"
      ]
    },
    {
      "cell_type": "code",
      "execution_count": null,
      "id": "20caa358",
      "metadata": {
        "id": "20caa358",
        "outputId": "d505671a-e11d-4e9f-e743-d54b4c08a1e3",
        "colab": {
          "base_uri": "https://localhost:8080/"
        }
      },
      "outputs": [
        {
          "output_type": "stream",
          "name": "stdout",
          "text": [
            "F-тест: F = 34.81, p-value = 0.00000000000000011102\n"
          ]
        }
      ],
      "source": [
        "var_x = np.var(campaign_x_scaled, ddof=1)\n",
        "var_y = np.var(campaign_y_scaled, ddof=1)\n",
        "f_statistic = var_x / var_y\n",
        "dfn = len(campaign_x_scaled) - 1  # Степени свободы для первой выборки\n",
        "dfd = len(campaign_y_scaled) - 1  # Степени свободы для второй выборки\n",
        "p_value_f_test = 1 - stats.f.cdf(f_statistic, dfn, dfd)  # p-value для F-теста\n",
        "\n",
        "print(f\"F-тест: F = {f_statistic:.2f}, p-value = {p_value_f_test:.20f}\")"
      ]
    },
    {
      "cell_type": "markdown",
      "id": "750cab50",
      "metadata": {
        "id": "750cab50"
      },
      "source": [
        "### 2.2.2 Тест Левена с медианной центровкой"
      ]
    },
    {
      "cell_type": "code",
      "execution_count": null,
      "id": "c5996fa7",
      "metadata": {
        "id": "c5996fa7",
        "outputId": "75b7df4b-f4da-4d59-836f-d5179a8dd8f2",
        "colab": {
          "base_uri": "https://localhost:8080/"
        }
      },
      "outputs": [
        {
          "output_type": "stream",
          "name": "stdout",
          "text": [
            "Тест Левена: W = 123.18, p-value = 0.000000000000000000000000405532\n"
          ]
        }
      ],
      "source": [
        "w_statistic, p_value_levene = stats.levene(campaign_x, campaign_y, center='median')\n",
        "\n",
        "print(f\"Тест Левена: W = {w_statistic:.2f}, p-value = {p_value_levene:.30f}\")"
      ]
    },
    {
      "cell_type": "markdown",
      "id": "c3b7756a",
      "metadata": {
        "id": "c3b7756a"
      },
      "source": [
        "### 2.2.3 Bootstrap-оценка 95% ДИ для отношения дисперсий"
      ]
    },
    {
      "cell_type": "code",
      "execution_count": null,
      "id": "b40082a7",
      "metadata": {
        "id": "b40082a7",
        "outputId": "1330d787-e596-4607-f2dc-d87ed875d9e5",
        "colab": {
          "base_uri": "https://localhost:8080/"
        }
      },
      "outputs": [
        {
          "output_type": "stream",
          "name": "stdout",
          "text": [
            "95% ДИ отношения дисперсий (Y/X): [0.02, 0.04]\n"
          ]
        }
      ],
      "source": [
        "scaler = StandardScaler()\n",
        "ctr_df['CTR_Scaled'] = scaler.fit_transform(ctr_df[['CTR']])\n",
        "\n",
        "# Разделение на кампании после нормализации\n",
        "campaign_x_scaled = ctr_df[ctr_df['Campaign'] == 'X']['CTR_Scaled'].values\n",
        "campaign_y_scaled = ctr_df[ctr_df['Campaign'] == 'Y']['CTR_Scaled'].values\n",
        "\n",
        "# Функция для бутстрап-оценки доверительного интервала\n",
        "def bootstrap_ratio_of_variances(x, y, n_iterations=10000):\n",
        "    ratios = []\n",
        "    for _ in range(n_iterations):\n",
        "        sample_x = np.random.choice(x, size=len(x), replace=True)\n",
        "        sample_y = np.random.choice(y, size=len(y), replace=True)\n",
        "\n",
        "        var_x = np.var(sample_x, ddof=1)\n",
        "        var_y = np.var(sample_y, ddof=1)\n",
        "\n",
        "        ratio = var_y / var_x  # Y / X\n",
        "        ratios.append(ratio)\n",
        "\n",
        "    ci_lower = np.percentile(ratios, 2.5)\n",
        "    ci_upper = np.percentile(ratios, 97.5)\n",
        "    return ci_lower, ci_upper\n",
        "\n",
        "# Оценка доверительного интервала\n",
        "ci_lower, ci_upper = bootstrap_ratio_of_variances(campaign_x_scaled, campaign_y_scaled)\n",
        "\n",
        "print(f\"95% ДИ отношения дисперсий (Y/X): [{ci_lower:.2f}, {ci_upper:.2f}]\")\n"
      ]
    },
    {
      "cell_type": "markdown",
      "id": "d47e1ac9",
      "metadata": {
        "id": "d47e1ac9"
      },
      "source": [
        "### 2.3 Интерпретация"
      ]
    },
    {
      "cell_type": "markdown",
      "source": [
        "(а) Статистическая значимость вариативности (на основе коэффициента вариации и результатов тестов):\n",
        "\n",
        "* Для обеих кампаний (X и Y) мы вычислили коэффициент вариации (CV). Он показывает степень вариативности CTR относительно среднего значения. Чем выше коэффициент, тем выше степень вариативности в данных.\n",
        "\n",
        "* Кампания X имеет более высокий коэффициент вариации, что указывает на большую изменчивость CTR в этой кампании.\n",
        "\n",
        "* Кампания Y имеет меньший коэффициент вариации, что говорит о более стабильном CTR.\n",
        "\n",
        "Bootstrap-оценка отношения дисперсий:\n",
        "\n",
        "* Мы оценили 95% доверительный интервал (ДИ) для отношения дисперсий CTR между кампаниями Y и X. ДИ: [0.02, 0.04]. Это означает, что дисперсия CTR в кампании Y меньше, чем в кампании X, и данное различие статистически значимо.\n",
        "\n",
        "Результаты F-теста и теста Левена:\n",
        "\n",
        "* F-тест показал, что дисперсии CTR между кампаниями значимо различаются, и кампания Y демонстрирует меньшую вариативность.\n",
        "\n",
        "* Тест Левена также подтвердил, что различия в дисперсиях статистически значимы, даже при медианной центровке.\n",
        "\n",
        "Кластеры в данных (метод DBSCAN):\n",
        "\n",
        "* В данных кампании Y выделяется меньше кластеров, что подтверждает меньшую вариативность CTR и более стабильные показатели по сравнению с кампанией X\n",
        "\n",
        "(б) Риск бюджетных потерь при нестабильности CTR:\n",
        "\n",
        "* Кампания X имеет большую вариативность CTR, что может привести к нестабильности рекламных затрат и возврата инвестиций. Высокая изменчивость означает, что в некоторые периоды реклама может приносить значительно меньше, чем в другие. Это увеличивает риск потерь бюджета.\n",
        "\n",
        "* Кампания Y, с другой стороны, более стабильна и с меньшей вариативностью. Это снижает риски нестабильности в рекламных расходах\n",
        "\n",
        "(в) Оптимальный размер выборки для будущих тестов:\n"
      ],
      "metadata": {
        "id": "xvZy2gGf39V4"
      },
      "id": "xvZy2gGf39V4"
    },
    {
      "cell_type": "code",
      "execution_count": null,
      "id": "23bd1c24",
      "metadata": {
        "id": "23bd1c24",
        "colab": {
          "base_uri": "https://localhost:8080/"
        },
        "outputId": "9f851d1e-c4d3-43d8-96ea-e3a07749f15d"
      },
      "outputs": [
        {
          "output_type": "execute_result",
          "data": {
            "text/plain": [
              "273"
            ]
          },
          "metadata": {},
          "execution_count": 27
        }
      ],
      "source": [
        "S_X = np.std(campaign_x, ddof=1)\n",
        "S_Y = np.std(campaign_y, ddof=1)\n",
        "\n",
        "# Значения квантилей нормального распределения\n",
        "Z_alpha_2 = stats.norm.ppf(0.975)  # 1.96 для 95% доверительного уровня\n",
        "Z_beta = stats.norm.ppf(0.8)  # 0.84 для 80% мощности\n",
        "\n",
        "# Расчет минимального размера выборки\n",
        "n = ((Z_alpha_2 + Z_beta) / (S_Y / S_X)) ** 2\n",
        "int(n)"
      ]
    }
  ],
  "metadata": {
    "kernelspec": {
      "display_name": "Python 3.10 (tensorflow_ver_07.02.23)",
      "language": "python",
      "name": "tensorflow_ver_07.02.23"
    },
    "language_info": {
      "codemirror_mode": {
        "name": "ipython",
        "version": 3
      },
      "file_extension": ".py",
      "mimetype": "text/x-python",
      "name": "python",
      "nbconvert_exporter": "python",
      "pygments_lexer": "ipython3",
      "version": "3.10.9"
    },
    "colab": {
      "provenance": [],
      "include_colab_link": true
    }
  },
  "nbformat": 4,
  "nbformat_minor": 5
}