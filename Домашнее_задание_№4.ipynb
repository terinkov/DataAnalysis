{
  "cells": [
    {
      "cell_type": "markdown",
      "metadata": {
        "id": "view-in-github",
        "colab_type": "text"
      },
      "source": [
        "<a href=\"https://colab.research.google.com/github/terinkov/DataAnalysis/blob/main/%D0%94%D0%BE%D0%BC%D0%B0%D1%88%D0%BD%D0%B5%D0%B5_%D0%B7%D0%B0%D0%B4%D0%B0%D0%BD%D0%B8%D0%B5_%E2%84%964.ipynb\" target=\"_parent\"><img src=\"https://colab.research.google.com/assets/colab-badge.svg\" alt=\"Open In Colab\"/></a>"
      ]
    },
    {
      "cell_type": "markdown",
      "id": "ae540e00",
      "metadata": {
        "id": "ae540e00"
      },
      "source": [
        "# Домашнее задание № 4\n",
        "Состоит из двух частей: Z-тест и t-тест, проверка гипотез о сдвиге и однородности."
      ]
    },
    {
      "cell_type": "code",
      "execution_count": null,
      "id": "9a49e460",
      "metadata": {
        "id": "9a49e460"
      },
      "outputs": [],
      "source": [
        "import numpy as np\n",
        "import scipy.stats as stats\n",
        "import matplotlib.pyplot as plt\n",
        "from statsmodels.stats.power import TTestIndPower\n",
        "from scipy.stats import ttest_ind"
      ]
    },
    {
      "cell_type": "markdown",
      "id": "088c44ac",
      "metadata": {
        "id": "088c44ac"
      },
      "source": [
        "# Часть 1: Проверка гипотез (Z-тест и t-тест)"
      ]
    },
    {
      "cell_type": "markdown",
      "id": "1a12ae43",
      "metadata": {
        "id": "1a12ae43"
      },
      "source": [
        "## Задача 1: Сравнение методов анализа данных\n",
        "\n",
        "### Контекст\n",
        "Компания провела эксперимент по улучшению времени загрузки страницы. Данные собраны для двух групп пользователей: контрольной (старая версия) и тестовой (новая версия). Вам нужно проанализировать данные, используя Z-тест и t-тест, и сравнить результаты.\n",
        "\n",
        "### Данные\n",
        "- **Контрольная группа**: 500 пользователей, среднее время загрузки $\\bar{X}_A = 3.8$ сек, стандартное отклонение $\\sigma_A = 0.9$ сек.\n",
        "- **Тестовая группа**: 520 пользователей, среднее время загрузки $\\bar{X}_B = 3.5$ сек, стандартное отклонение $\\sigma_B = 1.0$ сек.\n",
        "\n",
        "### Задания $(\\Sigma 36 points)$\n",
        "1. $(4 \\times 3 points)$ **Проверьте гипотезу о равенстве средних с использованием Z-теста.** Укажите:\n",
        "   - Формулировку нулевой и альтернативной гипотез.\n",
        "   - Расчёт Z-статистики.\n",
        "   - Критическое значение и p-value.\n",
        "   - Вывод о значимости.\n",
        "\n",
        "2. $(4 \\times 3 points)$ **Проверьте гипотезу о равенстве средних с использованием t-теста Уэлча.** Укажите:\n",
        "   - Формулировку нулевой и альтернативной гипотез.\n",
        "   - Расчёт t-статистики и степеней свободы.\n",
        "   - Критическое значение и p-value.\n",
        "   - Вывод о значимости.\n",
        "\n",
        "3. $(2 \\times 3 points)$ **Сравните результаты Z-теста и t-теста.** Ответьте на вопросы:\n",
        "   - Почему результаты могут отличаться?\n",
        "   - Какой тест лучше подходит для этих данных?\n",
        "\n",
        "4. $(2 \\times 3 points)$ **Сделайте бизнес-рекомендацию на основе анализа.** Укажите:\n",
        "   - Статистическую значимость изменений.\n",
        "   - Практическую значимость (например, в секундах)."
      ]
    },
    {
      "cell_type": "markdown",
      "id": "2465ab9b",
      "metadata": {
        "id": "2465ab9b"
      },
      "source": [
        "# Решение задачи 1: Сравнение методов анализа данных"
      ]
    },
    {
      "cell_type": "markdown",
      "id": "863bc20f",
      "metadata": {
        "id": "863bc20f"
      },
      "source": [
        "### 1.1 Проверьте гипотезу о равенстве средних с использованием Z-теста."
      ]
    },
    {
      "cell_type": "markdown",
      "id": "48fa3999",
      "metadata": {
        "id": "48fa3999"
      },
      "source": [
        "### 1.1.1 Формулировку нулевой и альтернативной гипотез"
      ]
    },
    {
      "cell_type": "markdown",
      "id": "7390be66",
      "metadata": {
        "id": "7390be66"
      },
      "source": [
        "$ H_0$:Среднее время загрузки для контрольной и тестовой групп одинаково Ma=Mb\n",
        "\n",
        "$ H_1$:Среднее время загрузки для контрольной и тестовой групп не одинаково Ma!=Mb"
      ]
    },
    {
      "cell_type": "markdown",
      "id": "98eaef3c",
      "metadata": {
        "id": "98eaef3c"
      },
      "source": [
        "### 1.1.2 Расчёт Z-статистики"
      ]
    },
    {
      "cell_type": "code",
      "execution_count": null,
      "id": "fdf71de2",
      "metadata": {
        "colab": {
          "base_uri": "https://localhost:8080/"
        },
        "id": "fdf71de2",
        "outputId": "9c6b1c1e-4619-4d10-ec0d-875f271e685b"
      },
      "outputs": [
        {
          "output_type": "stream",
          "name": "stdout",
          "text": [
            "Z = 5.0400\n"
          ]
        }
      ],
      "source": [
        "import numpy as np\n",
        "import scipy.stats as stats\n",
        "\n",
        "# Данные\n",
        "X_A, sigma_A, n_A = 3.8, 0.9, 500  # Контрольная группа\n",
        "X_B, sigma_B, n_B = 3.5, 1.0, 520  # Тестовая группа\n",
        "\n",
        "# Стандартная ошибка разности средних\n",
        "SE = np.sqrt((sigma_A ** 2) / n_A + (sigma_B ** 2) / n_B)\n",
        "\n",
        "# Z-статистика\n",
        "Z = (X_A - X_B) / SE\n",
        "print(f\"Z = {Z:.4f}\")"
      ]
    },
    {
      "cell_type": "markdown",
      "id": "6ece69d4",
      "metadata": {
        "id": "6ece69d4"
      },
      "source": [
        "### 1.1.3 Критическое значение и p-value"
      ]
    },
    {
      "cell_type": "code",
      "execution_count": null,
      "id": "f31ef06d",
      "metadata": {
        "colab": {
          "base_uri": "https://localhost:8080/"
        },
        "id": "f31ef06d",
        "outputId": "0d120e94-4f1b-4334-c954-feffa4148f73"
      },
      "outputs": [
        {
          "output_type": "stream",
          "name": "stdout",
          "text": [
            "Z = 1.9600, p-value = 0.0000004655\n"
          ]
        }
      ],
      "source": [
        "alpha = 0.05\n",
        "Z_critical = stats.norm.ppf(1 - alpha / 2)  # двусторонний тест\n",
        "p_value = 2 * (1 - stats.norm.cdf(abs(Z)))\n",
        "print(f\"Z = {Z_critical:.4f}, p-value = {p_value:.10f}\")\n",
        "\n"
      ]
    },
    {
      "cell_type": "markdown",
      "id": "2cca204c",
      "metadata": {
        "id": "2cca204c"
      },
      "source": [
        "### 1.1.4 Вывод о значимости"
      ]
    },
    {
      "cell_type": "code",
      "execution_count": null,
      "id": "88e88058",
      "metadata": {
        "colab": {
          "base_uri": "https://localhost:8080/",
          "height": 35
        },
        "id": "88e88058",
        "outputId": "a8ecf8ae-cf81-4b21-80d6-8e77963d9b04"
      },
      "outputs": [
        {
          "output_type": "execute_result",
          "data": {
            "text/plain": [
              "'Отвергаем H₀: различия статистически значимы'"
            ],
            "application/vnd.google.colaboratory.intrinsic+json": {
              "type": "string"
            }
          },
          "metadata": {},
          "execution_count": 9
        }
      ],
      "source": [
        "if abs(Z) > Z_critical:\n",
        "    result = \"Отвергаем H₀: различия статистически значимы\"\n",
        "else:\n",
        "    result = \"Не отвергаем H₀: средние не различаются\"\n",
        "\n",
        "result"
      ]
    },
    {
      "cell_type": "markdown",
      "id": "fefe919f",
      "metadata": {
        "id": "fefe919f"
      },
      "source": [
        "### 1.2 Проверьте гипотезу о равенстве средних с использованием t-теста Уэлча"
      ]
    },
    {
      "cell_type": "markdown",
      "id": "94e10463",
      "metadata": {
        "id": "94e10463"
      },
      "source": [
        "### 1.2.1 Формулировку нулевой и альтернативной гипотез"
      ]
    },
    {
      "cell_type": "markdown",
      "id": "e9a42246",
      "metadata": {
        "id": "e9a42246"
      },
      "source": [
        "$H_0$: Среднее время загрузки для контрольной и тестовой групп одинаково Ma=Mb\n",
        "\n",
        "$H_1$: Среднее время загрузки для контрольной и тестовой групп не одинаково Ma!=Mb"
      ]
    },
    {
      "cell_type": "markdown",
      "id": "8bdddd01",
      "metadata": {
        "id": "8bdddd01"
      },
      "source": [
        "### 1.2.2 Расчёт t-статистики и степеней свободы"
      ]
    },
    {
      "cell_type": "code",
      "source": [
        "import numpy as np\n",
        "import scipy.stats as stats\n",
        "\n",
        "# Фиксируем случайность\n",
        "np.random.seed(42)\n",
        "\n",
        "# Заданные параметры\n",
        "mean_A = 3.8  # Среднее контрольной группы\n",
        "mean_B = 3.5  # Среднее тестовой группы\n",
        "s_A = 0.9     # Стандартное отклонение контрольной группы\n",
        "s_B = 1.0     # Стандартное отклонение тестовой группы\n",
        "n_A = 500     # Размер контрольной группы\n",
        "n_B = 520     # Размер тестовой группы\n",
        "\n",
        "# Генерация случайных выборок из нормального распределения\n",
        "group_A = np.random.normal(mean_A, s_A, n_A)\n",
        "group_B = np.random.normal(mean_B, s_B, n_B)\n",
        "\n",
        "# Выполняем t-тест Уэлча\n",
        "t_stat, p_val_t = stats.ttest_ind(group_A, group_B, equal_var=False)\n",
        "\n",
        "# Степени свободы (вычисляются внутри ttest_ind, но можно посчитать вручную)\n",
        "df = ((s_A**2 / n_A + s_B**2 / n_B)**2) / (\n",
        "    ((s_A**2 / n_A)**2 / (n_A - 1)) + ((s_B**2 / n_B)**2 / (n_B - 1))\n",
        ")\n",
        "\n",
        "# Критическое значение t для 95% доверительного уровня\n",
        "alpha = 0.05\n",
        "t_critical = stats.t.ppf(1 - alpha / 2, df)\n",
        "\n",
        "# Вывод результатов\n",
        "print(f\"Сгенерированные выборки: Контрольная (A) {len(group_A)}, Тестовая (B) {len(group_B)}\")\n",
        "print(f\"t-статистика: {t_stat:.4f}\")\n",
        "print(f\"Степени свободы: {df:.1f}\")\n",
        "print(f\"Критическое значение (±): {t_critical:.4f}\")\n",
        "print(f\"P-value: {p_val_t:.10f}\")\n",
        "\n",
        "# Вывод значимости\n",
        "if p_val_t < alpha:\n",
        "    print(\"\\nВывод: Различия значимы, можем отвергнуть H0 (средние отличаются).\")\n",
        "else:\n",
        "    print(\"\\nВывод: Нет оснований отвергать H0 (различия незначимы).\")\n"
      ],
      "metadata": {
        "colab": {
          "base_uri": "https://localhost:8080/"
        },
        "id": "rh3Cs-UXRfRO",
        "outputId": "b28a9182-c228-4197-a162-b51677a3eb10"
      },
      "id": "rh3Cs-UXRfRO",
      "execution_count": null,
      "outputs": [
        {
          "output_type": "stream",
          "name": "stdout",
          "text": [
            "Сгенерированные выборки: Контрольная (A) 500, Тестовая (B) 520\n",
            "t-статистика: 4.4467\n",
            "Степени свободы: 1013.6\n",
            "Критическое значение (±): 1.9623\n",
            "P-value: 0.0000096794\n",
            "\n",
            "Вывод: Различия значимы, можем отвергнуть H0 (средние отличаются).\n"
          ]
        }
      ]
    },
    {
      "cell_type": "markdown",
      "id": "89e6cdf8",
      "metadata": {
        "id": "89e6cdf8"
      },
      "source": [
        "### 1.2.3 Критическое значение и p-value"
      ]
    },
    {
      "cell_type": "code",
      "execution_count": null,
      "id": "dff51ab2",
      "metadata": {
        "colab": {
          "base_uri": "https://localhost:8080/"
        },
        "id": "dff51ab2",
        "outputId": "8c1c3d8c-8a06-4569-eb34-84ac049d73c7"
      },
      "outputs": [
        {
          "output_type": "stream",
          "name": "stdout",
          "text": [
            "t-критическое = 1.9623\n",
            "p-value = 0.0000005511\n"
          ]
        }
      ],
      "source": [
        "\n",
        "t_critical = stats.t.ppf(1 - alpha / 2, df)\n",
        "print(f\"t-критическое = {t_critical:.4f}\\np-value = {p_val_t:.10f}\")\n",
        "\n"
      ]
    },
    {
      "cell_type": "markdown",
      "id": "2c6b5b8a",
      "metadata": {
        "id": "2c6b5b8a"
      },
      "source": [
        "### 1.2.4 Вывод о значимости."
      ]
    },
    {
      "cell_type": "code",
      "execution_count": null,
      "id": "c7dd16bb",
      "metadata": {
        "id": "c7dd16bb",
        "outputId": "a63ad1af-58e8-4cd1-977c-90263d332968"
      },
      "outputs": [
        {
          "name": "stdout",
          "output_type": "stream",
          "text": [
            "Отвергаем H₀: различия статистически значимы\n"
          ]
        }
      ],
      "source": [
        "if abs(t_stat) > t_critical:\n",
        "    result_t = \"Отвергаем H₀: различия статистически значимы\"\n",
        "else:\n",
        "    result_t = \"Не отвергаем H_0: средние не различаются\"\n",
        "\n",
        "result_t\n"
      ]
    },
    {
      "cell_type": "markdown",
      "id": "c67dbd04",
      "metadata": {
        "id": "c67dbd04"
      },
      "source": [
        "### 1.3 Сравните результаты Z-теста и t-теста"
      ]
    },
    {
      "cell_type": "markdown",
      "id": "8f5ac6e7",
      "metadata": {
        "id": "8f5ac6e7"
      },
      "source": [
        "### 1.3.1 Почему результаты могут отличаться?\n",
        "### 1.3.2 Какой тест лучше для этих данных?"
      ]
    },
    {
      "cell_type": "markdown",
      "source": [
        "**Почему результаты Z-теста и t-теста могут отличаться?**\n",
        "\n",
        "Результаты Z-теста и t-теста могут различаться из-за различий в их допущениях и методологии:\n",
        "\n",
        "* Z-тест предполагает, что стандартное отклонение генеральной совокупности известно, что редко бывает в реальных условиях. Он также более корректен для больших выборок (обычно n>30).\n",
        "\n",
        "* t-тест учитывает конечный размер выборки и использует его для корректировки степеней свободы, что делает его более точным при малых выборках.\n",
        "\n",
        "* t-тест Уэлча дополнительно учитывает неравенство дисперсий между группами, тогда как Z-тест предполагает их равенство. Это делает t-тест Уэлча более универсальным и надежным, особенно если выборки имеют разный разброс значений.\n",
        "\n",
        "В целом, если дисперсии неизвестны или выборки относительно небольшие, предпочтительнее использовать t-тест Уэлча.\n",
        "\n",
        "\n",
        "\n",
        "\n",
        "\n",
        "\n",
        "\n"
      ],
      "metadata": {
        "id": "5JwaOdlZpdge"
      },
      "id": "5JwaOdlZpdge"
    },
    {
      "cell_type": "markdown",
      "source": [
        "**Для данных, представленных в задаче, лучше использовать t-тест Уэлча.** Вот почему:\n",
        "\n",
        "* Размер выборок: Одна выборка состоит из 500 пользователей, а другая — из 520. Обе выборки достаточно велики, что позволяет использовать t-тест. Однако, поскольку выборки не равны по размеру и не обязательно имеют одинаковые дисперсии, использование t-теста Уэлча будет более подходящим.\n",
        "\n",
        "* Дисперсии: В задаче указано, что стандартные отклонения для двух групп отличаются (). t-тест Уэлча не требует, чтобы дисперсии были равными, и корректирует их различия, в то время как стандартный t-тест (который предполагает равенство дисперсий) может дать неточные результаты.\n",
        "\n",
        "* Стандартное отклонение: Z-тест предполагает, что стандартное отклонение генеральной совокупности известно, что не всегда реально для выборок. В случае с t-тестом, мы работаем с выборочными стандартными отклонениями, что делает его более универсальным для реальных ситуаций.\n",
        "\n",
        "Таким образом, t-тест Уэлча — более надежный выбор для этих данных, так как он корректирует возможные различия в дисперсиях и лучше подходит для сравнения двух выборок с разными размерами и отклонениями."
      ],
      "metadata": {
        "id": "qNFVZ9Vbp7vP"
      },
      "id": "qNFVZ9Vbp7vP"
    },
    {
      "cell_type": "markdown",
      "source": [
        "*   Z-тест подходит для больших выборок с известной дисперсией.\n",
        "*   t-тест Уэлча лучше, если дисперсии неизвестны или различны.\n",
        "*   Для этих данных предпочтителен t-тест Уэлча."
      ],
      "metadata": {
        "id": "iitwUzKopAg4"
      },
      "id": "iitwUzKopAg4"
    },
    {
      "cell_type": "code",
      "execution_count": null,
      "id": "f0a53242",
      "metadata": {
        "id": "f0a53242",
        "colab": {
          "base_uri": "https://localhost:8080/"
        },
        "outputId": "084e1176-2cea-442a-a461-8d6e7662cb0f"
      },
      "outputs": [
        {
          "output_type": "stream",
          "name": "stdout",
          "text": [
            "Z-тест:\t\t Z-статистика = 5.040005,\t p-value = 0.0000004655\n",
            "t-тест Уэлча:\t t-статистика = 5.040005,\t p-value = 0.0000005511\n",
            "\n",
            "Различия между тестами незначительны, оба дают схожие результаты.\n"
          ]
        }
      ],
      "source": [
        "# Вывод значений Z-теста и t-теста\n",
        "print(f\"Z-тест:\\t\\t Z-статистика = {Z:.6f},\\t p-value = {p_value:.10f}\")\n",
        "print(f\"t-тест Уэлча:\\t t-статистика = {t_stat:.6f},\\t p-value = {p_val_t:.10f}\")\n",
        "\n",
        "# Объяснение различий\n",
        "if abs(Z - t_stat) > 0.1:\n",
        "    print(\"\\nРазличия между Z-тестом и t-тестом могут возникать по следующим причинам:\")\n",
        "    print(\"1. Z-тест предполагает известное стандартное отклонение генеральной совокупности.\")\n",
        "    print(\"2. t-тест учитывает конечный размер выборки и использует его для расчета степеней свободы.\")\n",
        "    print(\"3. t-тест Уэлча корректирует дисперсии, если они не равны, что делает его более надежным.\")\n",
        "else:\n",
        "    print(\"\\nРазличия между тестами незначительны, оба дают схожие результаты.\")\n"
      ]
    },
    {
      "cell_type": "code",
      "source": [
        "if p_value < 0.05 and p_val_t < 0.05:\n",
        "    print(\"\\nОба теста показывают значимые различия, но t-тест Уэлча более надежен при неравных дисперсиях.\")\n",
        "elif p_value < 0.05:\n",
        "    print(\"\\nZ-тест показывает значимые различия, но он менее надежен, так как не учитывает размер выборки.\")\n",
        "elif p_val_t < 0.05:\n",
        "    print(\"\\nt-тест Уэлча показывает значимые различия, он лучше подходит для этих данных.\")\n",
        "else:\n",
        "    print(\"\\nОба теста не показывают статистически значимых различий.\")\n"
      ],
      "metadata": {
        "colab": {
          "base_uri": "https://localhost:8080/"
        },
        "id": "_Khi41SAo4-6",
        "outputId": "d4ac7d38-9553-4b75-b2d7-f419284463a1"
      },
      "id": "_Khi41SAo4-6",
      "execution_count": null,
      "outputs": [
        {
          "output_type": "stream",
          "name": "stdout",
          "text": [
            "\n",
            "Оба теста показывают значимые различия, но t-тест Уэлча более надежен при неравных дисперсиях.\n"
          ]
        }
      ]
    },
    {
      "cell_type": "markdown",
      "id": "8af26fa5",
      "metadata": {
        "id": "8af26fa5"
      },
      "source": [
        "### 1.4 Сделайте бизнес-рекомендацию на основе анализа"
      ]
    },
    {
      "cell_type": "markdown",
      "id": "5972ffce",
      "metadata": {
        "id": "5972ffce"
      },
      "source": [
        "### 1.4.1 Статистическую значимость изменений\n",
        "### 1.4.2 Практическая значимость (например, в секундах)"
      ]
    },
    {
      "cell_type": "code",
      "execution_count": null,
      "id": "ca9f33c4",
      "metadata": {
        "id": "ca9f33c4",
        "colab": {
          "base_uri": "https://localhost:8080/"
        },
        "outputId": "d8b3f3f8-d71d-4797-f84e-4e59603dda6e"
      },
      "outputs": [
        {
          "output_type": "stream",
          "name": "stdout",
          "text": [
            "\n",
            "Статистически значимые различия обнаружены: новая версия страницы загружается быстрее.\n"
          ]
        }
      ],
      "source": [
        "if p_val_t < 0.05:\n",
        "    print(\"\\nСтатистически значимые различия обнаружены: новая версия страницы загружается быстрее.\")\n",
        "else:\n",
        "    print(\"\\nСтатистически значимых различий не обнаружено: улучшение времени загрузки не доказано.\")\n"
      ]
    },
    {
      "cell_type": "code",
      "source": [
        "time_difference = mean_a - mean_b  # Разница во времени загрузки\n",
        "\n",
        "print(f\"\\nПрактическая значимость: новая версия страницы загружается в среднем на {time_difference:.2f} секунды быстрее.\")\n",
        "if time_difference > 0.3:\n",
        "    print(\"Это значительное улучшение! Рекомендуется внедрение новой версии.\")\n",
        "else:\n",
        "    print(\"Разница небольшая, стоит дополнительно протестировать другие изменения.\")\n"
      ],
      "metadata": {
        "colab": {
          "base_uri": "https://localhost:8080/"
        },
        "id": "0BT0t6JBqT0m",
        "outputId": "8fd862cc-ed15-44ef-ef0f-903761c01735"
      },
      "id": "0BT0t6JBqT0m",
      "execution_count": null,
      "outputs": [
        {
          "output_type": "stream",
          "name": "stdout",
          "text": [
            "\n",
            "Практическая значимость: новая версия страницы загружается в среднем на -38.52 секунды быстрее.\n",
            "Разница небольшая, стоит дополнительно протестировать другие изменения.\n"
          ]
        }
      ]
    },
    {
      "cell_type": "markdown",
      "id": "a195da16",
      "metadata": {
        "id": "a195da16"
      },
      "source": [
        "# Часть 2: Проверка гипотез о сдвиге и однородности"
      ]
    },
    {
      "cell_type": "markdown",
      "id": "34c206bc",
      "metadata": {
        "id": "34c206bc"
      },
      "source": [
        "## Задача 1: Сравнение методов анализа сдвига\n",
        "\n",
        "### Контекст\n",
        "Компания провела A/B-тест двух версий лендинга. Вам предоставлены данные о времени (в секундах), проведенном на странице:\n",
        "- Группа A (старая версия): 150 пользователей  \n",
        "- Группа B (новая версия): 160 пользователей  \n",
        "\n",
        "**Цель**: Определить, увеличилось ли среднее время на странице в группе B."
      ]
    },
    {
      "cell_type": "code",
      "execution_count": null,
      "id": "18086b9d",
      "metadata": {
        "id": "18086b9d"
      },
      "outputs": [],
      "source": [
        "import numpy as np\n",
        "np.random.seed(42)\n",
        "\n",
        "# Генерация данных с асимметрией и выбросами\n",
        "def generate_skewed(loc, scale, skew, size):\n",
        "    data = np.random.weibull(skew, size) * scale + loc\n",
        "    return np.clip(data, 0, None)\n",
        "\n",
        "group_a = generate_skewed(120, 40, 1.5, 150)\n",
        "group_b = generate_skewed(135, 50, 0.8, 160)"
      ]
    },
    {
      "cell_type": "markdown",
      "id": "5b705347",
      "metadata": {
        "id": "5b705347"
      },
      "source": [
        "### Задания  $(\\Sigma 35 points)$\n",
        "1. $(3 \\times 3 points)$ **Разведочный анализ:**\n",
        "   - Постройте гистограммы и boxplot для обеих групп\n",
        "   - Рассчитайте медиану, среднее, стандартное отклонение\n",
        "   - Проверьте наличие выбросов (правило 3σ или IQR \\[межквартильный размах = разница между 75-процентилем и 25-процентилем\\])\n",
        "\n",
        "2. $(3 \\times 3 points)$ **Проверка условий:**\n",
        "   - Тест Шапиро-Уилка на нормальность\n",
        "   - Тест Левена на равенство дисперсий\n",
        "   - Обоснуйте выбор параметрических/непараметрических методов\n",
        "\n",
        "3. $(3 \\times 3 points)$ **Применение критериев:**\n",
        "   - Проведите:\n",
        "       - (а) Парный t-тест (если данные нормальны)\n",
        "       - (б) Тест Уэлча (Welch's t-test) (при неравных дисперсиях)\n",
        "       - (в) U-тест Манна-Уитни\n",
        "   \n",
        "4. $(2 \\times 4 points)$ **Сравнение результатов:**\n",
        "   - Объясните расхождения между параметрическими и непараметрическими методами\n",
        "   - Сформулируйте итоговый вывод для product-менеджера"
      ]
    },
    {
      "cell_type": "markdown",
      "id": "9c1da864",
      "metadata": {
        "id": "9c1da864"
      },
      "source": [
        "## Задача 1: Сравнение методов анализа сдвига"
      ]
    },
    {
      "cell_type": "markdown",
      "id": "1450b8b2",
      "metadata": {
        "id": "1450b8b2"
      },
      "source": [
        "### 1.1 Разведочный анализ"
      ]
    },
    {
      "cell_type": "markdown",
      "id": "176c79ad",
      "metadata": {
        "id": "176c79ad"
      },
      "source": [
        "### 1.1.1 Постройте гистограммы и boxplot для обеих групп"
      ]
    },
    {
      "cell_type": "code",
      "execution_count": null,
      "id": "c445944b",
      "metadata": {
        "colab": {
          "base_uri": "https://localhost:8080/",
          "height": 487
        },
        "id": "c445944b",
        "outputId": "0dc314b0-6ae0-4504-d581-40620cad2a4b"
      },
      "outputs": [
        {
          "output_type": "display_data",
          "data": {
            "text/plain": [
              "<Figure size 1200x500 with 2 Axes>"
            ],
            "image/png": "[encoded data removed]"
          },
          "metadata": {}
        }
      ],
      "source": [
        "import matplotlib.pyplot as plt\n",
        "import seaborn as sns\n",
        "\n",
        "# Построение гистограмм\n",
        "plt.figure(figsize=(12, 5))\n",
        "plt.subplot(1, 2, 1)\n",
        "sns.histplot(group_a, bins=20, kde=True, color=\"blue\", label=\"Группа A\", alpha=0.6)\n",
        "sns.histplot(group_b, bins=20, kde=True, color=\"red\", label=\"Группа B\", alpha=0.6)\n",
        "plt.legend()\n",
        "plt.title(\"Гистограммы времени на странице\")\n",
        "plt.xlabel(\"Время (секунды)\")\n",
        "\n",
        "# Boxplot\n",
        "plt.subplot(1, 2, 2)\n",
        "sns.boxplot(data=[group_a, group_b], palette=[\"blue\", \"red\"])\n",
        "plt.xticks([0, 1], [\"Группа A\", \"Группа B\"])\n",
        "plt.title(\"Boxplot времени на странице\")\n",
        "\n",
        "plt.show()\n"
      ]
    },
    {
      "cell_type": "markdown",
      "id": "56e7a175",
      "metadata": {
        "id": "56e7a175"
      },
      "source": [
        "### 1.1.2 Рассчитайте медиану, среднее, стандартное отклонение"
      ]
    },
    {
      "cell_type": "code",
      "execution_count": null,
      "id": "332d5a71",
      "metadata": {
        "id": "332d5a71",
        "colab": {
          "base_uri": "https://localhost:8080/"
        },
        "outputId": "4351f333-315b-46cf-e44e-bfc4c59394af"
      },
      "outputs": [
        {
          "output_type": "stream",
          "name": "stdout",
          "text": [
            "Группа A: Среднее = 154.03, Медиана = 148.28, Ст. отклонение = 23.77\n",
            "Группа B: Среднее = 192.55, Медиана = 173.00, Ст. отклонение = 63.31\n"
          ]
        }
      ],
      "source": [
        "mean_a, median_a, std_a = np.mean(group_a), np.median(group_a), np.std(group_a, ddof=1)\n",
        "mean_b, median_b, std_b = np.mean(group_b), np.median(group_b), np.std(group_b, ddof=1)\n",
        "\n",
        "print(f\"Группа A: Среднее = {mean_a:.2f}, Медиана = {median_a:.2f}, Ст. отклонение = {std_a:.2f}\")\n",
        "print(f\"Группа B: Среднее = {mean_b:.2f}, Медиана = {median_b:.2f}, Ст. отклонение = {std_b:.2f}\")\n"
      ]
    },
    {
      "cell_type": "markdown",
      "id": "b5129b14",
      "metadata": {
        "id": "b5129b14"
      },
      "source": [
        "### 1.1.3 Проверьте наличие выбросов (правило 3σ или IQR \\[межквартильный размах = разница между 75-процентилем и 25-процентилем\\])"
      ]
    },
    {
      "cell_type": "code",
      "execution_count": null,
      "id": "d8adfc3e",
      "metadata": {
        "id": "d8adfc3e",
        "colab": {
          "base_uri": "https://localhost:8080/"
        },
        "outputId": "1eede288-4c57-4f34-d8dd-f8b48f2c6af9"
      },
      "outputs": [
        {
          "output_type": "stream",
          "name": "stdout",
          "text": [
            "Выбросы в группе A: 1 значений\n",
            "Выбросы в группе B: 10 значений\n"
          ]
        }
      ],
      "source": [
        "Q1_a, Q3_a = np.percentile(group_a, [25, 75])\n",
        "IQR_a = Q3_a - Q1_a\n",
        "lower_bound_a, upper_bound_a = Q1_a - 1.5 * IQR_a, Q3_a + 1.5 * IQR_a\n",
        "\n",
        "Q1_b, Q3_b = np.percentile(group_b, [25, 75])\n",
        "IQR_b = Q3_b - Q1_b\n",
        "lower_bound_b, upper_bound_b = Q1_b - 1.5 * IQR_b, Q3_b + 1.5 * IQR_b\n",
        "\n",
        "outliers_a = group_a[(group_a < lower_bound_a) | (group_a > upper_bound_a)]\n",
        "outliers_b = group_b[(group_b < lower_bound_b) | (group_b > upper_bound_b)]\n",
        "\n",
        "print(f\"Выбросы в группе A: {len(outliers_a)} значений\")\n",
        "print(f\"Выбросы в группе B: {len(outliers_b)} значений\")\n"
      ]
    },
    {
      "cell_type": "markdown",
      "id": "888f0cf4",
      "metadata": {
        "id": "888f0cf4"
      },
      "source": [
        "### 1.2 Проверка условий"
      ]
    },
    {
      "cell_type": "markdown",
      "id": "b7916ec3",
      "metadata": {
        "id": "b7916ec3"
      },
      "source": [
        "### 1.2.1 Тест Шапиро-Уилка на нормальность"
      ]
    },
    {
      "cell_type": "code",
      "execution_count": null,
      "id": "e34d3f20",
      "metadata": {
        "id": "e34d3f20",
        "outputId": "88add0fe-aa9f-4ac8-ceb5-949c387ee84a",
        "colab": {
          "base_uri": "https://localhost:8080/"
        }
      },
      "outputs": [
        {
          "output_type": "stream",
          "name": "stdout",
          "text": [
            "Шапиро-Уилк для группы A: p-value = 0.0000006540\n",
            "Шапиро-Уилк для группы B: p-value = 0.00000000000020280916\n"
          ]
        }
      ],
      "source": [
        "from scipy.stats import shapiro\n",
        "\n",
        "shapiro_a = shapiro(group_a)\n",
        "shapiro_b = shapiro(group_b)\n",
        "\n",
        "print(f\"Шапиро-Уилк для группы A: p-value = {shapiro_a.pvalue:.10f}\")\n",
        "print(f\"Шапиро-Уилк для группы B: p-value = {shapiro_b.pvalue:.20f}\")\n"
      ]
    },
    {
      "cell_type": "markdown",
      "id": "b0256308",
      "metadata": {
        "id": "b0256308"
      },
      "source": [
        "### 1.2.2 Тест Левена на равенство дисперсий"
      ]
    },
    {
      "cell_type": "code",
      "execution_count": null,
      "id": "39c014f2",
      "metadata": {
        "id": "39c014f2",
        "outputId": "f218f12e-127e-4d27-8a9b-5eb59fa3fdd5",
        "colab": {
          "base_uri": "https://localhost:8080/"
        }
      },
      "outputs": [
        {
          "output_type": "stream",
          "name": "stdout",
          "text": [
            "Тест Левена: p-value = 0.0000000205\n"
          ]
        }
      ],
      "source": [
        "from scipy.stats import levene\n",
        "\n",
        "levene_test = levene(group_a, group_b)\n",
        "print(f\"Тест Левена: p-value = {levene_test.pvalue:.10f}\")\n"
      ]
    },
    {
      "cell_type": "markdown",
      "id": "acf7a4e5",
      "metadata": {
        "id": "acf7a4e5"
      },
      "source": [
        "### 1.2.3 Обоснуйте выбор параметрических/непараметрических методов"
      ]
    },
    {
      "cell_type": "markdown",
      "id": "0d8fb062",
      "metadata": {
        "id": "0d8fb062"
      },
      "source": [
        "\n",
        "\n",
        "*   Если данные нормальные и дисперсии равны → используем t-тест для независимых выборок.\n",
        "*   Если дисперсии различны → используем t-тест Уэлча.\n",
        "*   Если данные не нормальны → используем U-тест Манна-Уитни.\n"
      ]
    },
    {
      "cell_type": "markdown",
      "id": "9f3e8904",
      "metadata": {
        "id": "9f3e8904"
      },
      "source": [
        "### 1.3 Применение критериев"
      ]
    },
    {
      "cell_type": "markdown",
      "id": "2e675d92",
      "metadata": {
        "id": "2e675d92"
      },
      "source": [
        "### 1.3.1 Парный t-тест (если данные нормальны)"
      ]
    },
    {
      "cell_type": "code",
      "execution_count": null,
      "id": "5c9a1a66",
      "metadata": {
        "id": "5c9a1a66",
        "outputId": "30d5f933-59f6-486f-df5c-48d5ac01c372"
      },
      "outputs": [
        {
          "name": "stdout",
          "output_type": "stream",
          "text": [
            "Student's t-test: t=-7.00, p=0.0000\n"
          ]
        }
      ],
      "source": []
    },
    {
      "cell_type": "markdown",
      "id": "f24e5af8",
      "metadata": {
        "id": "f24e5af8"
      },
      "source": [
        "### 1.3.2 Welch's t-test (при неравных дисперсиях)"
      ]
    },
    {
      "cell_type": "code",
      "execution_count": null,
      "id": "1fb60c6a",
      "metadata": {
        "id": "1fb60c6a",
        "outputId": "9a8054b4-a044-4ba2-c94c-68dc37a40bb1"
      },
      "outputs": [
        {
          "name": "stdout",
          "output_type": "stream",
          "text": [
            "Welch's t-test: t=-7.18, p=0.0000\n"
          ]
        }
      ],
      "source": []
    },
    {
      "cell_type": "markdown",
      "id": "e2b9005d",
      "metadata": {
        "id": "e2b9005d"
      },
      "source": [
        "### 1.3.3 U-тест Манна-Уитни"
      ]
    },
    {
      "cell_type": "code",
      "execution_count": null,
      "id": "40ef8684",
      "metadata": {
        "id": "40ef8684",
        "outputId": "62daa32b-beff-48c8-b3b7-2c3faa74d7bb"
      },
      "outputs": [
        {
          "name": "stdout",
          "output_type": "stream",
          "text": [
            "Mann-Whitney U-test: U = 6842, p-value = 0.0000\n"
          ]
        }
      ],
      "source": []
    },
    {
      "cell_type": "markdown",
      "id": "9563a39d",
      "metadata": {
        "id": "9563a39d"
      },
      "source": [
        "### 1.4 Сравнение результатов"
      ]
    },
    {
      "cell_type": "markdown",
      "id": "9fb6ef90",
      "metadata": {
        "id": "9fb6ef90"
      },
      "source": [
        "### 1.4.1 Объясните расхождения между параметрическими и непараметрическими методами"
      ]
    },
    {
      "cell_type": "markdown",
      "id": "0242e377",
      "metadata": {
        "id": "0242e377"
      },
      "source": []
    },
    {
      "cell_type": "markdown",
      "id": "ce0bb07b",
      "metadata": {
        "id": "ce0bb07b"
      },
      "source": [
        "### 1.4.2 Сформулируйте итоговый вывод для product-менеджера"
      ]
    },
    {
      "cell_type": "code",
      "execution_count": null,
      "id": "6a47cd30",
      "metadata": {
        "id": "6a47cd30"
      },
      "outputs": [],
      "source": []
    },
    {
      "cell_type": "markdown",
      "id": "671811d5",
      "metadata": {
        "id": "671811d5"
      },
      "source": [
        "## Задача 2: Анализ вариативности в маркетинговых данных\n",
        "### Контекст\n",
        "Анализируется стабильность CTR двух рекламных кампаний:\n",
        "- Кампания X: 200 дней наблюдений  \n",
        "- Кампания Y: 200 дней наблюдений\n",
        "\n",
        "**Цель**: Проверить гипотезу, что кампания Y имеет меньшую вариативность CTR."
      ]
    },
    {
      "cell_type": "code",
      "execution_count": null,
      "id": "fc3253ed",
      "metadata": {
        "id": "fc3253ed"
      },
      "outputs": [],
      "source": [
        "import numpy as np\n",
        "import pandas as pd\n",
        "import matplotlib.pyplot as plt\n",
        "import seaborn as sns\n",
        "from scipy import stats\n",
        "from sklearn.cluster import DBSCAN\n",
        "\n",
        "campaign_x = np.concatenate([\n",
        "    np.random.normal(0.05, 0.01, 150),\n",
        "    np.random.normal(0.08, 0.02, 50)\n",
        "])\n",
        "campaign_y = np.random.beta(a=2, b=40, size=200) * 0.1"
      ]
    },
    {
      "cell_type": "markdown",
      "id": "25eb3208",
      "metadata": {
        "id": "25eb3208"
      },
      "source": [
        "### Задания $(\\Sigma 29 points)$\n",
        "1. $(3 \\times 3 points)$ **Первичный анализ:**\n",
        "   - Рассчитайте [коэффициент вариации](https://ru.wikipedia.org/wiki/Коэффициент_вариации) для обеих кампаний\n",
        "   - Постройте Q-Q plot относительно бета-распределения и выполните тест [Шапиро-Уилка](https://docs.scipy.org/doc/scipy/reference/generated/scipy.stats.shapiro.html) (проверка нормальности)\n",
        "   - Выявите кластеры в данных (например, [методом](https://scikit-learn.org/stable/modules/generated/sklearn.cluster.DBSCAN.html) [DBSCAN](https://ru.wikipedia.org/wiki/DBSCAN))\n",
        "\n",
        "2. $(11 points)$ **Проверка гипотез:**\n",
        "   -  $(4 points)$ F-тест для нормализованных данных\n",
        "   -  $(4 points)$ Тест Левена с медианной центровкой\n",
        "   -  $(3 points)$ Bootstrap-оценка 95% ДИ для отношения дисперсий\n",
        "   \n",
        "4. $(3 \\times 3 points)$ **Интерпретация:**\n",
        "   - Свяжите статистические выводы с бизнес-метриками:\n",
        "       - (а) Сделайте статистические выводы (статистическая значимость вариативности, ДИ, кол-во кластеров)  \n",
        "       - (б) Риск бюджетных потерь при нестабильности CTR\n",
        "       - (в) Оптимальный размер выборки для будущих тестов"
      ]
    },
    {
      "cell_type": "markdown",
      "id": "bdb713ff",
      "metadata": {
        "id": "bdb713ff"
      },
      "source": [
        "## Задача 2: Анализ стабильности CTR"
      ]
    },
    {
      "cell_type": "markdown",
      "id": "2c0648c5",
      "metadata": {
        "id": "2c0648c5"
      },
      "source": [
        "### Генерация данных"
      ]
    },
    {
      "cell_type": "code",
      "execution_count": null,
      "id": "4bee971f",
      "metadata": {
        "id": "4bee971f"
      },
      "outputs": [],
      "source": [
        "# Создаем DataFrame\n",
        "ctr_df = pd.DataFrame({\n",
        "    'CTR': np.concatenate([campaign_x, campaign_y]),\n",
        "    'Campaign': ['X']*200 + ['Y']*200\n",
        "})"
      ]
    },
    {
      "cell_type": "markdown",
      "id": "c156f328",
      "metadata": {
        "id": "c156f328"
      },
      "source": [
        "### 2.1 Первичный анализ"
      ]
    },
    {
      "cell_type": "code",
      "execution_count": null,
      "id": "31cd8dba",
      "metadata": {
        "scrolled": true,
        "id": "31cd8dba",
        "outputId": "53b1061c-9a7c-4ebc-e57c-2a7fed78fba9"
      },
      "outputs": [
        {
          "data": {
            "image/png": "[encoded data removed]",
            "text/plain": [
              "<Figure size 1200x600 with 2 Axes>"
            ]
          },
          "metadata": {},
          "output_type": "display_data"
        }
      ],
      "source": [
        "plt.figure(figsize=(12, 6))\n",
        "\n",
        "# Гистограммы с ядерной оценкой плотности\n",
        "plt.subplot(121)\n",
        "sns.histplot(data=ctr_df, x='CTR', hue='Campaign',\n",
        "             element='step', stat='density', common_norm=False)\n",
        "plt.title('Распределения CTR по кампаниям')\n",
        "\n",
        "# Боксплоты\n",
        "plt.subplot(122)\n",
        "sns.boxplot(data=ctr_df, x='Campaign', y='CTR')\n",
        "plt.title('Сравнение вариативности CTR')\n",
        "plt.tight_layout()\n",
        "plt.show()"
      ]
    },
    {
      "cell_type": "markdown",
      "id": "73f2f59c",
      "metadata": {
        "id": "73f2f59c"
      },
      "source": [
        "### 2.1.1 Рассчитайте [коэффициент вариации](https://ru.wikipedia.org/wiki/Коэффициент_вариации) для обеих кампаний"
      ]
    },
    {
      "cell_type": "code",
      "execution_count": null,
      "id": "f358f60a",
      "metadata": {
        "id": "f358f60a",
        "outputId": "bdc34e64-dace-4455-fab2-49aafa1f2eba"
      },
      "outputs": [
        {
          "name": "stdout",
          "output_type": "stream",
          "text": [
            "Campaign X: CV = 0.3230\n",
            "Campaign Y: CV = 0.6670\n"
          ]
        }
      ],
      "source": []
    },
    {
      "cell_type": "markdown",
      "id": "3a3e6aba",
      "metadata": {
        "id": "3a3e6aba"
      },
      "source": [
        "### 2.1.2 Постройте Q-Q plot относительно бета-распределения и выполните [Шапиро-Уилка](https://docs.scipy.org/doc/scipy/reference/generated/scipy.stats.shapiro.html) (проверка нормальности)"
      ]
    },
    {
      "cell_type": "code",
      "execution_count": null,
      "id": "71156b7c",
      "metadata": {
        "id": "71156b7c",
        "outputId": "11bca1dd-f99f-439a-ffd7-ce7efab51d7a"
      },
      "outputs": [
        {
          "data": {
            "image/png": "[encoded data removed]",
            "text/plain": [
              "<Figure size 1200x500 with 2 Axes>"
            ]
          },
          "metadata": {},
          "output_type": "display_data"
        },
        {
          "name": "stdout",
          "output_type": "stream",
          "text": [
            "Результаты тестов нормальности:\n",
            "Campaign X: Shapiro p-value = 0.0000\n",
            "Campaign Y: Shapiro p-value = 0.0000\n"
          ]
        }
      ],
      "source": []
    },
    {
      "cell_type": "markdown",
      "id": "8b413134",
      "metadata": {
        "id": "8b413134"
      },
      "source": [
        "### 2.1.3 Выявите кластеры в данных [методом](https://scikit-learn.org/stable/modules/generated/sklearn.cluster.DBSCAN.html) [DBSCAN](https://ru.wikipedia.org/wiki/DBSCAN)"
      ]
    },
    {
      "cell_type": "code",
      "execution_count": null,
      "id": "502ca6c1",
      "metadata": {
        "id": "502ca6c1",
        "outputId": "d38b95af-1687-46bd-a3ae-779ffb95c78b"
      },
      "outputs": [
        {
          "data": {
            "image/png": "[encoded data removed]",
            "text/plain": [
              "<Figure size 800x500 with 1 Axes>"
            ]
          },
          "metadata": {},
          "output_type": "display_data"
        },
        {
          "name": "stdout",
          "output_type": "stream",
          "text": [
            "Обнаружено кластеров в Campaign X: 1\n"
          ]
        },
        {
          "data": {
            "image/png": "[encoded data removed]",
            "text/plain": [
              "<Figure size 800x500 with 1 Axes>"
            ]
          },
          "metadata": {},
          "output_type": "display_data"
        },
        {
          "name": "stdout",
          "output_type": "stream",
          "text": [
            "Обнаружено кластеров в Campaign Y: 0\n"
          ]
        }
      ],
      "source": []
    },
    {
      "cell_type": "markdown",
      "id": "7428e576",
      "metadata": {
        "id": "7428e576"
      },
      "source": [
        "### 2.2 Статистический анализ вариативности"
      ]
    },
    {
      "cell_type": "markdown",
      "id": "a4cf62ad",
      "metadata": {
        "id": "a4cf62ad"
      },
      "source": [
        "### 2.2.1 F-тест для нормализованных данных"
      ]
    },
    {
      "cell_type": "code",
      "execution_count": null,
      "id": "20caa358",
      "metadata": {
        "id": "20caa358",
        "outputId": "865a5df4-c063-4d9b-b29b-58b20ace4562"
      },
      "outputs": [
        {
          "name": "stdout",
          "output_type": "stream",
          "text": [
            "F-тест: F = 34.81, p-value = 0.0000\n"
          ]
        }
      ],
      "source": []
    },
    {
      "cell_type": "markdown",
      "id": "750cab50",
      "metadata": {
        "id": "750cab50"
      },
      "source": [
        "### 2.2.2 Тест Левена с медианной центровкой"
      ]
    },
    {
      "cell_type": "code",
      "execution_count": null,
      "id": "c5996fa7",
      "metadata": {
        "id": "c5996fa7",
        "outputId": "eb49da0a-73b4-4ccf-a63d-f84ef9ee7123"
      },
      "outputs": [
        {
          "name": "stdout",
          "output_type": "stream",
          "text": [
            "\n",
            "Тест Левена: W = 123.18, p-value = 0.0000\n"
          ]
        }
      ],
      "source": []
    },
    {
      "cell_type": "markdown",
      "id": "c3b7756a",
      "metadata": {
        "id": "c3b7756a"
      },
      "source": [
        "### 2.2.3 Bootstrap-оценка 95% ДИ для отношения дисперсий"
      ]
    },
    {
      "cell_type": "code",
      "execution_count": null,
      "id": "b40082a7",
      "metadata": {
        "id": "b40082a7",
        "outputId": "1e163c70-be96-4ac1-bdb8-fa38a385d5c9"
      },
      "outputs": [
        {
          "name": "stdout",
          "output_type": "stream",
          "text": [
            "\n",
            "95% ДИ отношения дисперсий (Y/X): [0.02, 0.04]\n"
          ]
        }
      ],
      "source": []
    },
    {
      "cell_type": "markdown",
      "id": "d47e1ac9",
      "metadata": {
        "id": "d47e1ac9"
      },
      "source": [
        "### 2.3 Интерпретация"
      ]
    },
    {
      "cell_type": "code",
      "execution_count": null,
      "id": "23bd1c24",
      "metadata": {
        "id": "23bd1c24"
      },
      "outputs": [],
      "source": []
    }
  ],
  "metadata": {
    "kernelspec": {
      "display_name": "Python 3.10 (tensorflow_ver_07.02.23)",
      "language": "python",
      "name": "tensorflow_ver_07.02.23"
    },
    "language_info": {
      "codemirror_mode": {
        "name": "ipython",
        "version": 3
      },
      "file_extension": ".py",
      "mimetype": "text/x-python",
      "name": "python",
      "nbconvert_exporter": "python",
      "pygments_lexer": "ipython3",
      "version": "3.10.9"
    },
    "colab": {
      "provenance": [],
      "include_colab_link": true
    }
  },
  "nbformat": 4,
  "nbformat_minor": 5
}