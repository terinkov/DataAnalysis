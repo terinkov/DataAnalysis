{
  "cells": [
    {
      "cell_type": "markdown",
      "metadata": {
        "id": "view-in-github",
        "colab_type": "text"
      },
      "source": [
        "<a href=\"https://colab.research.google.com/github/terinkov/DataAnalysis/blob/main/%D0%94%D0%BE%D0%BC%D0%B0%D1%88%D0%BD%D0%B5%D0%B5_%D0%B7%D0%B0%D0%B4%D0%B0%D0%BD%D0%B8%D0%B5_%E2%84%965.ipynb\" target=\"_parent\"><img src=\"https://colab.research.google.com/assets/colab-badge.svg\" alt=\"Open In Colab\"/></a>"
      ]
    },
    {
      "cell_type": "markdown",
      "id": "e583bb72",
      "metadata": {
        "id": "e583bb72"
      },
      "source": [
        "# Домашняя работа 5: АБ-тестирование"
      ]
    },
    {
      "cell_type": "markdown",
      "id": "db9729f4",
      "metadata": {
        "id": "db9729f4"
      },
      "source": [
        "## Задача 1: Сравнение методов анализа конверсии (30 баллов)\n",
        "**Данные:**  \n",
        "- Группа A: 15,000 пользователей, 750 конверсий  \n",
        "- Группа B: 17,000 пользователей, 940 конверсий\n",
        "\n",
        "```python\n",
        "# Данные\n",
        "conversions = [750, 940]\n",
        "trials = [15000, 17000]\n",
        "```\n",
        "\n",
        "**Требуется:**  \n",
        "1. Провести Z-тест для пропорций (10 баллов)\n",
        "2. Провести хи-квадрат тест (10 баллов)\n",
        "3. Сравнить результаты и объяснить различия (10 баллов)"
      ]
    },
    {
      "cell_type": "code",
      "source": [
        "import numpy as np\n",
        "import scipy.stats as stats\n",
        "from statsmodels.stats.proportion import proportions_ztest\n",
        "\n",
        "\n",
        "# Данные\n",
        "conversions = np.array([750, 940])\n",
        "trials = np.array([15000, 17000])\n",
        "\n",
        "# Z-тест для пропорций\n",
        "z_stat, p_value_z = proportions_ztest(conversions, trials)\n",
        "# print(f\"Z-статистика: {z_stat:.4f}, p-value: {p_value:.10f}\")\n",
        "\n",
        "# Хи-квадрат тест вручную через формулу\n",
        "observed = np.array([conversions, trials - conversions])\n",
        "expected = np.outer(np.sum(observed, axis=1), np.sum(observed, axis=0)) / np.sum(observed)\n",
        "chi2_stat = np.sum((observed - expected) ** 2 / expected)\n",
        "p_value_chi2 = 1 - stats.chi2.cdf(chi2_stat, df=1)\n",
        "\n",
        "# Вывод результатов\n",
        "print(f\"Z-тест: Z-статистика = {z_stat:.4f}, p-значение = {p_value_z:.5f}\")\n",
        "print(f\"Хи-квадрат тест: статистика = {chi2_stat:.4f}, p-значение = {p_value_chi2:.5f}\")\n",
        "\n",
        "print(f\"Разница p-values: {p_value_chi2-p_value_z:.4f}\")"
      ],
      "metadata": {
        "colab": {
          "base_uri": "https://localhost:8080/"
        },
        "id": "knYURQCx5MEE",
        "outputId": "7bc51fc0-83ca-4f21-b13b-8dc91aa1676a"
      },
      "id": "knYURQCx5MEE",
      "execution_count": null,
      "outputs": [
        {
          "output_type": "stream",
          "name": "stdout",
          "text": [
            "Z-тест: Z-статистика = -2.1130, p-значение = 0.03460\n",
            "Хи-квадрат тест: статистика = 4.4648, p-значение = 0.03460\n",
            "Разница p-values: 0.0000\n"
          ]
        }
      ]
    },
    {
      "cell_type": "markdown",
      "id": "09f3ba23",
      "metadata": {
        "id": "09f3ba23"
      },
      "source": [
        "### Выводы\n",
        "**p-value = 0.0346 означает, что если бы не было реальной разницы между конверсиями, мы получили бы такие данные случайно только в 3.46% случаев. Так как p-value < 0.05, можно сделать вывод, что разница между группами статистически значима на уровне 5%, и группа B действительно имеет более высокий коэффициент конверсии. Это может означать, что изменение, протестированное в группе B (например, новый дизайн сайта, изменение предложения и т. д.), дествительно влияет на конверсию.**\n",
        "\n",
        "**1. Z-тест для пропорций:**  \n",
        "Формула:  \n",
        "$$ Z = \\frac{\\hat{p}_B - \\hat{p}_A}{\\sqrt{\\hat{p}(1-\\hat{p})}(\\frac{1}{n_A} + \\frac{1}{n_B})} $$  \n",
        "где $\\hat{p} = \\frac{n_A\\hat{p}_A + n_B\\hat{p}_B}{n_A + n_B}$  \n",
        "\n",
        "**2. Хи-квадрат тест:**  \n",
        "Формула:  \n",
        "$$ \\chi^2 = \\sum \\frac{(O - E)^2}{E} $$  \n",
        "\n",
        "**Объяснение различий:**  \n",
        "* Z-тест применяется для проверки гипотезы о разнице долей конверсий между двумя группами. Он основан на предположении, что распределение разности пропорций асимптотически **нормально** при достаточно больших выборках\n",
        "* Хи-квадрат тест в данном случае используется для проверки независимости между группой (A или B) и конверсией (есть/нет). Использует **Хи-квадрат** распределение\n",
        "* В нашем тесте (Z-статистика)^2 и Хи-квадрат статистика совпадают, так как у Хи-квадрат 1 степень свободы, и Хи-квадрат распределение совпадает по распределению с квадратом нормального распределения, которое имеет Z-статистика. Это верно в случае большой выборки (Так как Z-тест предполагает ассимптотически нормальное распределение, требуется достаточно большая выборка.)"
      ]
    },
    {
      "cell_type": "markdown",
      "id": "8da044ec",
      "metadata": {
        "id": "8da044ec"
      },
      "source": [
        "## Задача 2: Анализ выживаемости на Титанике (60 баллов)\n",
        "**Данные:** Датсет Titanic из библиотеки seaborn    \n",
        "**Требуется:**\n",
        "1. Можно ли  считать, что\n",
        "    - Распределние возраста пассажиров в первом классе и в третьем классе -- нормальное (тест Шапиро-Уилка)? (10 баллов)\n",
        "    - Дисперсии гомогенны для возраста пассажиров в первом классе и в третьем классе (тест Левена)? (10 баллов)\n",
        "\n",
        "2. Проверить гипотезу о том, что пассажиры 1-го класса имели более высокую выживаемость, чем 3-го класса:\n",
        "    - Проверить условия применимости тестов: Z-тест для пропорций и хи-квадрат тест (10 баллов)\n",
        "    - Провести Z-тест для пропорций (10 баллов)\n",
        "    - Провести хи-квадрат тест (10 баллов)\n",
        "    - Сравнить результаты и объяснить различия (10 баллов)"
      ]
    },
    {
      "cell_type": "markdown",
      "id": "a5fe2b3d",
      "metadata": {
        "id": "a5fe2b3d"
      },
      "source": [
        "### 1. Можно ли  считать, что\n",
        "    - Распределние возраста пассажиров в первом классе и в третьем классе -- нормальное (тест Шапиро-Уилка)?\n",
        "    - Дисперсии гомогенны для возраста пассажиров в первом классе и в третьем классе (тест Левена)?"
      ]
    },
    {
      "cell_type": "code",
      "execution_count": null,
      "id": "931553ca",
      "metadata": {
        "id": "931553ca",
        "outputId": "8ff39f63-d47f-4b61-fd15-627ef56e2653",
        "colab": {
          "base_uri": "https://localhost:8080/",
          "height": 651
        }
      },
      "outputs": [
        {
          "output_type": "stream",
          "name": "stdout",
          "text": [
            "Проверка нормальности возраста:\n",
            "Тест Шапиро-Уилка (1-й класс): p-value = 0.36426\n",
            "Тест Шапиро-Уилка (3-й класс): p-value = 0.00000\n",
            "\n",
            "Тест Левена для возраста: p-value = 0.0006\n"
          ]
        },
        {
          "output_type": "display_data",
          "data": {
            "text/plain": [
              "<Figure size 1200x600 with 1 Axes>"
            ],
            "image/png": "[encoded data removed]"
          },
          "metadata": {}
        }
      ],
      "source": [
        "import seaborn as sns\n",
        "from scipy.stats import shapiro, levene\n",
        "import matplotlib.pyplot as plt\n",
        "\n",
        "# Загрузка данных\n",
        "titanic = sns.load_dataset('titanic')\n",
        "class1 = titanic[titanic['class'] == 'First']\n",
        "class3 = titanic[titanic['class'] == 'Third']\n",
        "\n",
        "# your code start\n",
        "# Фильтрация данных по классам\n",
        "class1_age = titanic[titanic['class'] == 'First']['age'].dropna()\n",
        "class3_age = titanic[titanic['class'] == 'Third']['age'].dropna()\n",
        "\n",
        "# Тест Шапиро-Уилка на нормальность\n",
        "shapiro_class1 = shapiro(class1_age)\n",
        "shapiro_class3 = shapiro(class3_age)\n",
        "\n",
        "print(\"Проверка нормальности возраста:\")\n",
        "print(f\"Тест Шапиро-Уилка (1-й класс): p-value = {shapiro_class1.pvalue:.5f}\")\n",
        "print(f\"Тест Шапиро-Уилка (3-й класс): p-value = {shapiro_class3.pvalue:.5f}\\n\")\n",
        "\n",
        "# Тест Левена на равенство дисперсий\n",
        "levene_test = levene(class1_age, class3_age)\n",
        "\n",
        "print(f\"Тест Левена для возраста: p-value = {levene_test.pvalue:.4f}\")\n",
        "\n",
        "# end your code\n",
        "\n",
        "# Визуализация\n",
        "plt.figure(figsize=(12,6))\n",
        "sns.histplot(class1['age'].dropna(), kde=True, color='blue', label='First Class')\n",
        "sns.histplot(class3['age'].dropna(), kde=True, color='red', label='Third Class')\n",
        "plt.title('Распределение возраста по классам')\n",
        "plt.legend()\n",
        "plt.show()"
      ]
    },
    {
      "cell_type": "markdown",
      "id": "6804386e",
      "metadata": {
        "id": "6804386e"
      },
      "source": [
        "### Выводы\n",
        "1. **Нормальность возраста:**  \n",
        "* Первый класс (p-value = 0.36426):\n",
        "p-value > 0.1, это означает, что мы не отвергаем нулевую гипотезу. Таким образом, можно считать, что распределение возраста пассажиров в первом классе нормально.\n",
        "* Третий класс (p-value = 0.00000):\n",
        "p-value <= 0.1, это означает, что мы отвергаем нулевую гипотезу. Таким образом, можно сказать, что распределение возраста пассажиров в третьем классе не является нормальным.\n",
        "2. **Гомогенность дисперсий возраста:**  \n",
        "   - $p = 0.10000 \\Rightarrow$ дисперсии значимо различаются\n",
        "* p-value < 0.1, это означает, что мы отвергаем нулевую гипотезу. То есть, дисперсии возраста пассажиров в первом и третьем классах разные (не гомогенны).\n",
        "\n",
        "**Рекомендации:**  \n",
        "- Для возраста использовать непараметрические тесты (Манна-Уитни) для проверки различий между возрастами пассажиров 1-го и 3-го классов, так как распределение возраста в 3-м классе не является нормальным и дисперсии разные.\n",
        "- Для пропорций использовать (например для выживаемости, что проверяем далее) Z-тест или Хи-квадрат, так как эти тесты подходят для категориальных данных и не зависят от нормальности распределения (при достаточно больших выборках)."
      ]
    },
    {
      "cell_type": "code",
      "source": [
        "# Здесь еще решил проверить тестом Манна-Уитни что одинаковы распределения возрастов 1 и 3 класса на Титанике:\n",
        "import numpy as np\n",
        "import seaborn as sns\n",
        "import scipy.stats as stats\n",
        "\n",
        "# Загружаем датасет Titanic\n",
        "titanic = sns.load_dataset('titanic')\n",
        "\n",
        "# Фильтруем данные для 1-го и 3-го класса\n",
        "class_1 = titanic[titanic['pclass'] == 1]\n",
        "class_3 = titanic[titanic['pclass'] == 3]\n",
        "\n",
        "# Извлекаем возраст пассажиров для 1-го и 3-го класса, убираем пропуски\n",
        "age_class_1 = class_1['age'].dropna()\n",
        "age_class_3 = class_3['age'].dropna()\n",
        "\n",
        "# 1. Тест Манна-Уитни для проверки различий в возрасте между классами\n",
        "statistic, p_value_mann_whitney = stats.mannwhitneyu(age_class_1, age_class_3)\n",
        "\n",
        "# Выводим результаты\n",
        "print(f\"Тест Манна-Уитни: статистика = {statistic:.5f}, p-value = {p_value_mann_whitney:.10f}\")\n",
        "\n",
        "# Интерпретация\n",
        "if p_value_mann_whitney < 0.05:\n",
        "    print(\"Есть статистически значимая разница между возрастами пассажиров 1-го и 3-го классов. Значит считаем, что распределены не одинаково\")\n",
        "else:\n",
        "    print(\"Нет статистически значимой разницы между возрастами пассажиров 1-го и 3-го классов.\")\n"
      ],
      "metadata": {
        "colab": {
          "base_uri": "https://localhost:8080/"
        },
        "id": "Yya-awDSU-2f",
        "outputId": "248ddfa3-687c-45c1-f914-9c8a3ce37b22"
      },
      "id": "Yya-awDSU-2f",
      "execution_count": null,
      "outputs": [
        {
          "output_type": "stream",
          "name": "stdout",
          "text": [
            "Тест Манна-Уитни: статистика = 49572.00000, p-value = 0.0000000000\n",
            "Есть статистически значимая разница между возрастами пассажиров 1-го и 3-го классов. Значит считаем, что распределены не одинаково\n"
          ]
        }
      ]
    },
    {
      "cell_type": "markdown",
      "id": "03fae18d",
      "metadata": {
        "id": "03fae18d"
      },
      "source": [
        "### 2. Проверить гипотезу о том, что пассажиры 1-го класса имели более высокую выживаемость, чем 3-го класса:\n",
        "    - Проверить условия применимости тестов: Z-тест для пропорций и хи-квадрат тест\n",
        "    - Провести Z-тест для пропорций\n",
        "    - Провести хи-квадрат тест\n",
        "    - Сравнить результаты и объяснить различия"
      ]
    },
    {
      "cell_type": "markdown",
      "source": [
        "**Условия для применения Z-теста для пропорций и Хи-квадрат теста следующие:**\n",
        "\n",
        "\n",
        "*   Выборки должны быть большими (216 и 487 - достаточно большой размер выборки, поэтому считаем выполненным)\n",
        "*    Проверка частот (ниже)\n",
        "\n"
      ],
      "metadata": {
        "id": "5Bzo3l2IWRYG"
      },
      "id": "5Bzo3l2IWRYG"
    },
    {
      "cell_type": "code",
      "source": [
        "# Проверка применимости тестов:\n",
        "import numpy as np\n",
        "import seaborn as sns\n",
        "import scipy.stats as stats\n",
        "\n",
        "# Загружаем датасет Titanic\n",
        "titanic = sns.load_dataset('titanic')\n",
        "\n",
        "# Фильтруем данные для 1-го и 3-го класса\n",
        "class_1 = titanic[titanic['pclass'] == 1]\n",
        "class_3 = titanic[titanic['pclass'] == 3]\n",
        "\n",
        "# Пропорция выживших для каждого класса\n",
        "n1 = len(class_1)  # количество пассажиров в 1-м классе\n",
        "x1 = class_1['survived'].sum()  # количество выживших в 1-м классе\n",
        "p1 = x1 / n1  # пропорция выживших в 1-м классе\n",
        "\n",
        "n3 = len(class_3)  # количество пассажиров в 3-м классе\n",
        "x3 = class_3['survived'].sum()  # количество выживших в 3-м классе\n",
        "p3 = x3 / n3  # пропорция выживших в 3-м классе\n",
        "\n",
        "# 1. Проверка условий для Z-теста (условие нормальности пропорций)\n",
        "# Проверяем, что ожидаемое количество успехов и неудач >= 5 для каждой группы\n",
        "expected_success_1 = n1 * p1\n",
        "expected_failure_1 = n1 * (1 - p1)\n",
        "\n",
        "expected_success_3 = n3 * p3\n",
        "expected_failure_3 = n3 * (1 - p3)\n",
        "\n",
        "print(f\"Для 1-го класса: ожидания успехов = {expected_success_1:.2f}, неудач = {expected_failure_1:.2f}\")\n",
        "print(f\"Для 3-го класса: ожидания успехов = {expected_success_3:.2f}, неудач = {expected_failure_3:.2f}\")\n",
        "\n",
        "# Проверка, что все ожидания >= 5\n",
        "z_test_conditions_met = (expected_success_1 >= 5 and expected_failure_1 >= 5 and\n",
        "                          expected_success_3 >= 5 and expected_failure_3 >= 5)\n",
        "\n",
        "if z_test_conditions_met:\n",
        "    print(\"Условия для Z-теста соблюдены: Ожидаемое количество успехов и неудач >= 5 для каждой группы.\")\n",
        "else:\n",
        "    print(\"Условия для Z-теста НЕ соблюдены: Ожидаемое количество успехов или неудач < 5.\")\n",
        "\n",
        "# 2. Хи-квадрат тест (таблица сопряженности)\n",
        "# Формирование таблицы сопряжённости для выживших и невыживших\n",
        "observed = np.array([[x1, n1 - x1], [x3, n3 - x3]])\n",
        "\n",
        "# Ожидаемые значения для хи-квадрат теста\n",
        "expected = np.outer(np.sum(observed, axis=1), np.sum(observed, axis=0)) / np.sum(observed)\n",
        "\n",
        "# Проверка, что ожидаемые частоты >= 5\n",
        "print(\"\\nОжидаемые частоты для хи-квадрат теста:\")\n",
        "print(expected)\n",
        "\n",
        "# Проверка условий для хи-квадрат теста (все ли ожидаемые частоты >= 5)\n",
        "chi_square_conditions_met = np.all(expected >= 5)\n",
        "\n",
        "if chi_square_conditions_met:\n",
        "    print(\"Условия для хи-квадрат теста соблюдены: Ожидаемые частоты >= 5 для каждой ячейки.\")\n",
        "else:\n",
        "    print(\"Условия для хи-квадрат теста НЕ соблюдены: Некоторые ожидаемые частоты < 5.\")\n"
      ],
      "metadata": {
        "colab": {
          "base_uri": "https://localhost:8080/"
        },
        "id": "lhHZ5sm6Bxoo",
        "outputId": "181a468c-ecb6-49b1-c79a-d1f23f86d18b"
      },
      "id": "lhHZ5sm6Bxoo",
      "execution_count": null,
      "outputs": [
        {
          "output_type": "stream",
          "name": "stdout",
          "text": [
            "Для 1-го класса: ожидания успехов = 136.00, неудач = 80.00\n",
            "Для 3-го класса: ожидания успехов = 119.00, неудач = 372.00\n",
            "Условия для Z-теста соблюдены: Ожидаемое количество успехов и неудач >= 5 для каждой группы.\n",
            "\n",
            "Ожидаемые частоты для хи-квадрат теста:\n",
            "[[ 77.90664781 138.09335219]\n",
            " [177.09335219 313.90664781]]\n",
            "Условия для хи-квадрат теста соблюдены: Ожидаемые частоты >= 5 для каждой ячейки.\n"
          ]
        }
      ]
    },
    {
      "cell_type": "code",
      "execution_count": null,
      "id": "0d813c58",
      "metadata": {
        "id": "0d813c58",
        "outputId": "93d9c0b1-c468-4ec0-d1f0-addc907292b2",
        "colab": {
          "base_uri": "https://localhost:8080/"
        }
      },
      "outputs": [
        {
          "output_type": "stream",
          "name": "stdout",
          "text": [
            "Z-тест: Z-статистика = 9.87754, p-value = 0.0000000000\n",
            "Хи-квадрат тест: статистика = 95.89348, p-value = 0.0000000000\n",
            "\n",
            "Объяснение различий:\n",
            "Обе статистики (Z-тест и хи-квадрат тест) подтверждают, что выживаемость пассажиров 1-го класса выше, чем 3-го класса.\n"
          ]
        }
      ],
      "source": [
        "import numpy as np\n",
        "import scipy.stats as stats\n",
        "import seaborn as sns\n",
        "\n",
        "# Для 1-го класса\n",
        "n1 = len(class_1)  # количество пассажиров в 1-м классе\n",
        "x1 = class_1['survived'].sum()  # количество выживших в 1-м классе\n",
        "\n",
        "# Для 3-го класса\n",
        "n3 = len(class_3)  # количество пассажиров в 3-м классе\n",
        "x3 = class_3['survived'].sum()  # количество выживших в 3-м классе\n",
        "\n",
        "# 1. Z-тест для пропорций\n",
        "p1 = x1 / n1  # пропорция выживших в 1-м классе\n",
        "p3 = x3 / n3  # пропорция выживших в 3-м классе\n",
        "\n",
        "# комбинированная пропорция\n",
        "p = (x1 + x3) / (n1 + n3)\n",
        "\n",
        "# стандартная ошибка\n",
        "se = np.sqrt(p * (1 - p) * (1/n1 + 1/n3))\n",
        "\n",
        "# Z-статистика\n",
        "z = (p1 - p3) / se\n",
        "\n",
        "# p-value для Z-теста\n",
        "p_value_z = 2 * (1 - stats.norm.cdf(np.abs(z)))\n",
        "\n",
        "print(f\"Z-тест: Z-статистика = {z:.5f}, p-value = {p_value_z:.10f}\")\n",
        "\n",
        "# 2. Хи-квадрат тест\n",
        "# Формирование таблицы сопряжённости\n",
        "observed = np.array([[x1, n1 - x1], [x3, n3 - x3]])\n",
        "\n",
        "# Хи-квадрат тест\n",
        "chi2_stat, p_value_chi2, dof, expected = stats.chi2_contingency(observed)\n",
        "\n",
        "print(f\"Хи-квадрат тест: статистика = {chi2_stat:.5f}, p-value = {p_value_chi2:.10f}\")\n",
        "\n",
        "# 3. Объяснение различий\n",
        "if p_value_z < 0.05 and p_value_chi2 < 0.05:\n",
        "    explanation = \"Обе статистики (Z-тест и хи-квадрат тест) подтверждают, что выживаемость пассажиров 1-го класса выше, чем 3-го класса.\"\n",
        "else:\n",
        "    explanation = \"Результаты не подтверждают статистически значимую разницу.\"\n",
        "\n",
        "print(\"\\nОбъяснение различий:\")\n",
        "print(explanation)\n"
      ]
    },
    {
      "cell_type": "code",
      "source": [
        "\n",
        "# Подсчёт выживаемости для 1-го и 3-го классов\n",
        "survived_class_1 = class_1['survived'].mean()  # пропорция выживших в 1-м классе\n",
        "survived_class_3 = class_3['survived'].mean()  # пропорция выживших в 3-м классе\n",
        "\n",
        "# Данные для гистограммы\n",
        "labels = ['1-й класс', '3-й класс']\n",
        "survival_rates = [survived_class_1, survived_class_3]\n",
        "\n",
        "# Построение гистограммы\n",
        "plt.bar(labels, survival_rates, color=['blue', 'red'])\n",
        "\n",
        "# Добавляем подписи и заголовок\n",
        "plt.xlabel('Класс пассажиров')\n",
        "plt.ylabel('Пропорция выживших')\n",
        "plt.title('Выживаемость пассажиров 1-го и 3-го классов')\n",
        "\n",
        "# Отображаем график\n",
        "plt.show()"
      ],
      "metadata": {
        "colab": {
          "base_uri": "https://localhost:8080/",
          "height": 472
        },
        "id": "i47HgbY0ALJL",
        "outputId": "ae9d5049-e922-4724-9c95-ec1ba63ab67e"
      },
      "id": "i47HgbY0ALJL",
      "execution_count": null,
      "outputs": [
        {
          "output_type": "display_data",
          "data": {
            "text/plain": [
              "<Figure size 640x480 with 1 Axes>"
            ],
            "image/png": "[encoded data removed]"
          },
          "metadata": {}
        }
      ]
    },
    {
      "cell_type": "markdown",
      "id": "2c2dbc81",
      "metadata": {
        "id": "2c2dbc81"
      },
      "source": [
        "### Выводы\n",
        "**Данные:**  \n",
        "- 1-й класс: 216 пассажиров, 136 выживших (63%)  \n",
        "- 3-й класс: 491 пассажиров, 119 выживших (24%)  \n",
        "\n",
        "**1. Z-тест для пропорций:**  \n",
        "Формула:  \n",
        "$$ Z = \\frac{p_1 - p_3}{\\sqrt{p(1-p)(\\frac{1}{n_1} + \\frac{1}{n_3})}} = 9.87754 $$  \n",
        "где $p = \\frac{x_1 + x_3}{n_1 + n_3} = \\frac{136+119}{216+487} ≈ 0.325$  \n",
        "\n",
        "**2. Хи-квадрат тест:**  \n",
        "Проверяет независимость класса и выживаемости:  \n",
        "$$ \\chi^2 = \\sum \\frac{(O_{ij} - E_{ij})^2}{E_{ij}} = 95.89348 $$\n",
        "\n",
        "**Результаты:**  \n",
        "- Z-test p-value: 0.000000  \n",
        "- Chi-square p-value: 0.000000  \n",
        "\n",
        "**Объяснение различий:**  \n",
        "- Z-тест: p-value = 0.0000000000, что значительно меньше уровня значимости 0.05. Это свидетельствует о том, что различие между пропорциями выживших в 1-м и 3-м классах является статистически значимым\n",
        "- Хи-квадрат тест: p-value = 0.0000000000, что подтверждает статистическую значимость различия между выживаемостью в 1-м и 3-м классах.\n",
        "\n",
        "- Оба теста (Z-тест и хи-квадрат тест) дают одинаково сильные результаты, подтверждая, что пассажиры 1-го класса имеют значительно более высокую выживаемость по сравнению с пассажирами 3-го класса на Титанике. Z-тест проверяет разницу между пропорциями выживших в двух группах, и высокий Z-статистический показатель (большой по модулю) подтверждает значительное различие. Хи-квадрат тест проверяет зависимость между классом пассажира и выживаемостью, и полученная статистика указывает на наличие такой зависимости. Таким образом, результаты обоих тестов подтверждают, что **пассажиры 1-го класса имели гораздо выше вероятность выживания по сравнению с пассажирами 3-го класса**."
      ]
    },
    {
      "cell_type": "code",
      "source": [],
      "metadata": {
        "id": "cuQEen07oji5"
      },
      "id": "cuQEen07oji5",
      "execution_count": null,
      "outputs": []
    }
  ],
  "metadata": {
    "kernelspec": {
      "display_name": "Python 3 (ipykernel)",
      "language": "python",
      "name": "python3"
    },
    "language_info": {
      "codemirror_mode": {
        "name": "ipython",
        "version": 3
      },
      "file_extension": ".py",
      "mimetype": "text/x-python",
      "name": "python",
      "nbconvert_exporter": "python",
      "pygments_lexer": "ipython3",
      "version": "3.10.9"
    },
    "colab": {
      "provenance": [],
      "include_colab_link": true
    }
  },
  "nbformat": 4,
  "nbformat_minor": 5
}